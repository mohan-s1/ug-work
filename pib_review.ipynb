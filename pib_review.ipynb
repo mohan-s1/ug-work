{
 "cells": [
  {
   "cell_type": "markdown",
   "metadata": {},
   "source": [
    "# An Intro to Quantum Effusion\n",
    "#/* --------------------------------------------------------------------------------\n",
    "###  Egorov Group\n",
    "###   University of Virginia\n",
    "###   Mohan Shankar, mjs7eek@virginia.edu\n",
    "#-------------------------------------------------------------------------------- */\n",
    "\n",
    "This Jupyter Notebook was created to introduce readers to the work being done in the Egorov Group along quantum mechanical lines. "
   ]
  },
  {
   "cell_type": "markdown",
   "metadata": {},
   "source": [
    "# Introduction\n",
    "\n",
    "For academic and industrial pursuits, the relative and absolute rates of reactions are important pieces of information to hold, often dictating pathways which can produce better yields and control over attributes such as regioselectivity. Consequently, the problem of finding reaction rates is fundamental to our understanding of chemistry, resulting in the development of Transition-State Theory (TST) starting in the 1930’s.\n",
    "\n",
    "\n",
    "Within the framework of TST, reaction rates are found using classical mechanics operating under the assumption that a well-defined dividing surface separating reactants and products known as the “transition-state” exists. \n",
    "\n",
    "<center>\n",
    "<img src=\"tstate.png\" width=\"400\">\n",
    "</center>\n",
    "\n",
    "Classical TST has been very effective at calculating reaction rates for systems involving heavy atoms at high temperatures, but it often fails for the quantum regime where phenomena such as tunneling and zero-point energy occur. To this end, there is a need of creating a quantum transition state theory where these effects are accounted for. A cool example can be found in this [paper](https://pubs.acs.org/doi/10.1021/jacs.7b06905) detailing a double-Hydrogen transfer where quantum effects play a significant role.\n",
    "\n",
    "For classical transition state, the key assumption is the existence of a **dividing surface** that perfectly separates reactants from products with no chance of recrossing (i.e. no products back to reactants). Since TST was developed in the 1930's, the theory that was used to corroborate results was effusion of gases as a clear dividing surface also existed there. The **goal** of this project is to create a quantum effusion system through modifying a particle in a box system, affording us a baseline for future comparison.\n",
    "\n",
    "<center>\n",
    "<img src=\"system.png\" width=\"800\">\n",
    "</center>\n",
    "\n",
    "The image on the right of the arrow represents the system we make. Although effusion is a process that occurs resulting in gas occupying empty space, computers can't fathom that idea so we make a sufficiently large box instead to represent \"outside.\""
   ]
  },
  {
   "cell_type": "markdown",
   "metadata": {},
   "source": [
    "## Density Operators:\n",
    "\n",
    "I think the correlation functions are the trickiest and coolest part of the whole work. In particular, we feed in *density operators* rather than wavefunctions associated with a particular state so that the correlation functions can work over all considered possibilities. I think a great explanation of what a density operator is can be found in this [video](https://youtu.be/DQEtg8pWT8E?si=5tLHtlSTs-6e1iRn). "
   ]
  },
  {
   "cell_type": "markdown",
   "metadata": {},
   "source": [
    "# Explanatory Pieces of Code"
   ]
  },
  {
   "cell_type": "markdown",
   "metadata": {},
   "source": [
    "## General Workflow:\n",
    "\n",
    "For this project, there are three sections to go through where the latter two are the novel ones. \n",
    "\n",
    "<center>\n",
    "<img src=\"flow.png\" width=\"900\">\n",
    "</center>\n",
    "\n",
    "1) **Solver Validation:** While the PIB has known solutions (i.e. we know what $\\psi$ and $E_n$ are), the effusion system we will later create **does not** have known solutions, so we have to solve the Schrödinger Equation numerically. As a result, we want to make sure our analytic solutions match the numeric results\n",
    "\n",
    "2) **Add Slit:** Setting certain elements in the Hamiltonian is the numerical equivalent of imposing boundary conditions, meaning that we force $\\psi = 0$ at those points in the system\n",
    "\n",
    "3) **Find Rate Constants:** This step involves calculating $\\left< i | \\hat{F} | j \\right>^2 $ and performing the necessary subsequent steps to find the correlation functions. The boxed in one above is the flux-side correlation function, and we can find its limit at an intermediate time to extract the rate constants from.\n",
    "\n",
    "Actual explanatory code will mainly focus on creation of the Hamiltonian, finding rate constants, and extrapolating rate constants."
   ]
  },
  {
   "cell_type": "markdown",
   "metadata": {},
   "source": [
    "### Creation of the Hamiltonian \n",
    "\n",
    "The project can generally be split up into two steps: creation of the Hamiltonian and finding correlation functions. In the differential form, the Hamiltonian for the particle in a box looks like\n",
    "\n",
    "$$ \\hat{H} = - \\frac{\\hbar^2}{2m} \\left( \\frac{\\partial^2}{\\partial x^2} + \\frac{\\partial^2}{\\partial y^2} \\right) $$\n",
    "\n",
    "since there's no potential energy term. That being said, computers don't understand continuous things, so they can't take a derivative how we can. As a result, people developed algorithms to numerically find derivatives, and the one we will focus on is the finite difference method. A splendid video that covers this concept far better than I can is located [here](https://youtu.be/YotrBNLFen0?si=1Zcn6Yi579sAhXnq). The key takeaway is how a system is carved up (discretized) by placing a finite number of points inside so that we could implement particular numerical methods. Of course, the numerical solutions gets more accurate as the number of points $\\to \\infty$ but that's computationally expensive.\n",
    "\n",
    "Generally speaking, a 2nd order derivative is typically written as \n",
    "\n",
    "$$ f(x_{i + 1}) - 2 f(x) + f(x_{i-1}) \\, . $$\n",
    "For our work, however, we use a bit more advanced of a weighting scheme highlighted below:\n",
    "\n",
    "<center>\n",
    "<img src=\"weights.png\" width=\"600\">\n",
    "</center>\n",
    "\n",
    "Notice at the top, the weights I wrote out above are employed. We use the green boxed in weights since we assume there are an infinite number of points outside the box, but we can disregard it since we \"set those values to zero\" as $\\psi$ cannot exist outside the box. If we imagine a $2 \\times 2$ particle in a box, the subsequent Hamiltonian would be $4 \\times 4$ and looks as follows:\n",
    "\n",
    "<center>\n",
    "<img src=\"ham.png\" width=\"700\">\n",
    "</center>\n",
    "\n",
    "Generally, having nnx points along the x-axis and nny points along the y-axis will results in an $[nnx \\cdot nny \\times nnx \\cdot nny]$ matrix.\n",
    "\n",
    "The last thing to do is define the actual $\\frac{\\partial}{\\partial x}$ and $\\frac{\\partial}{\\partial y}$ components. This is done by finding the total distance along one axis you want to consider then divide it by the number of points along that axis. If we think of dx or dy as an infinitesimally small distance between two points, we can re-create is by finding the space between each point used in discretizing our system. This looks like:\n",
    "\n",
    "$$ dn = \\frac{L_{max} - L_{min}}{n - 1} $$\n",
    "\n",
    "Here, we use n-1 to grab the distances *between* points, but the code below will actually use n+1 in order to include the walls as  well. Numerically, it's a very subtle distinction. The last thing to note is that for this code, we do everything in atomic units characterized by setting $\\hbar = 1$ among other things for ease of computation.\n",
    "\n",
    "Another thing we can do for the ease of computation is take the *Kronecker Sum* of two 1D Hamiltonians to make the 2D one. Why this works would require some math discussion, so I'll leave that alone for now. The 1D Hamiltonians are weighted the same way as above. The only distinction is that you only consider the derivative along one axis. Let's take a look at some example code for building our Hamiltonian below:"
   ]
  },
  {
   "cell_type": "code",
   "execution_count": 56,
   "metadata": {},
   "outputs": [
    {
     "name": "stdout",
     "output_type": "stream",
     "text": [
      "Our Simple 1D Hamiltonian along x Looks Like: \n",
      " [[-3.28986813  2.        ]\n",
      " [ 2.         -3.28986813]]\n",
      "Our Simple 1D Hamiltonian along y Looks Like: \n",
      " [[-3.28986813  2.         -0.5       ]\n",
      " [ 2.         -3.28986813  2.        ]\n",
      " [-0.5         2.         -3.28986813]]\n",
      "Our Simple 2D Hamiltonian Looks Like: \n",
      " [[-6.57973627  2.         -0.5         2.          0.          0.        ]\n",
      " [ 2.         -6.57973627  2.          0.          2.          0.        ]\n",
      " [-0.5         2.         -6.57973627  0.          0.          2.        ]\n",
      " [ 2.          0.          0.         -6.57973627  2.         -0.5       ]\n",
      " [ 0.          2.          0.          2.         -6.57973627  2.        ]\n",
      " [ 0.          0.          2.         -0.5         2.         -6.57973627]]\n"
     ]
    }
   ],
   "source": [
    "#/* --------------------------------------------------------------------------------\n",
    "#   Egorov Group\n",
    "#   University of Virginia\n",
    "#   Mohan Shankar\n",
    "#\n",
    "#   Hamiltonian.py\n",
    "#   \"This file calculates eigenfunctions of particle in a box in the presence of a slit\"\n",
    "#-------------------------------------------------------------------------------- */\n",
    "# DEPENDENCIES\n",
    "import numpy as np\n",
    "import matplotlib.pyplot as plt\n",
    "import time\n",
    "#-------------------------------------------------------------------------------- */\n",
    "start_time = time.time()\n",
    "\n",
    "\n",
    "# INPUTS\n",
    "me = 5.485799e-4 # Electron mass in daltons\n",
    "m_au = 1.0 / me\n",
    "\n",
    "lx = 1.0 # Angstroms\n",
    "ly = 1.0 # Angstroms\n",
    "\n",
    "a0 = 0.529177258 # Bohr radius\n",
    "\n",
    "lx_au = lx/a0\n",
    "ly_au = ly/a0 \n",
    "\n",
    "nnx = 2 # number of points in x; set this to 2 to match above image\n",
    "nny = 3 # number of points in y; set this to 2 to match above image \n",
    "\n",
    "xmin = 0\n",
    "xmax = lx_au\n",
    "\n",
    "ymin = 0\n",
    "ymax = ly_au\n",
    "\n",
    "dx = (xmax-xmin)/(nnx+1)\n",
    "dy = (ymax-ymin)/(nny+1)\n",
    "\n",
    "pi = np.pi\n",
    "\n",
    "#-------------------------------------------------------------------------------- */\n",
    "# FUNCTION DEFINITIONS\n",
    "\n",
    "def kron_sum(A1, A2):\n",
    "    '''\n",
    "    Assumes A1, A2 are nxn, mxm matrices where n can be equal to m\n",
    "    '''\n",
    "    i1 = np.identity(len(A1[0]))\n",
    "    i2 = np.identity(len(A2[0]))\n",
    "    return np.kron(A1,i2) + np.kron(i1, A2)\n",
    "\n",
    "\n",
    "def PIB_one(points, lmax, lmin, mass, hbar=1):  \n",
    "    '''\n",
    "    function to return eigenvalues and eigenvectors of a Hamiltonian matrix \n",
    "    eigvals returned in array where eigvals[0] gives a float corresponding to n = 1; units of Joules since I defined my analytic formula with SI units\n",
    "    eigvecs returned in array of arrays where eigvecs[:, i] (column vectors) gives an array corresponding to n = i at each point in the box defined by grid spacing dx\n",
    "    '''\n",
    "    dn = (lmax-lmin)/(points+1)\n",
    "    dn2 = dn**2  # second derivative\n",
    "    H = np.zeros((points, points)) # initialize \n",
    "    z = -pi**2/3.0  # weight for diagonal\n",
    "    for i in range(points):\n",
    "        for j in range(points):\n",
    "            if i == j:\n",
    "                H[i][j] = z # weight for diagonals of matrix\n",
    "            else:\n",
    "                H[i][j] = (2/(i-j)**2)*((-1)**(i-j+1))  # weights for non-diagonals\n",
    "    \n",
    "    H_final = H * (-1/(2*mass*dn2)) # hbar = 1 hence 1/(2 * mass * dn2)\n",
    "    return H_final, H\n",
    "#-------------------------------------------------------------------------------- */\n",
    "# CREATE MATRICES \n",
    "h1_x, simple_h1x = PIB_one(nnx, xmax, xmin, m_au) # 1-D Hamiltonian from x points\n",
    "h1_y, simple_h1y = PIB_one(nny, ymax, ymin, m_au) # 1-D Hamiltonian from y points\n",
    "\n",
    "H_simple = kron_sum(simple_h1x, simple_h1y)\n",
    "H = kron_sum(h1_x, h1_y)\n",
    "\n",
    "print(\"Our Simple 1D Hamiltonian along x Looks Like: \\n {}\".format(simple_h1x))\n",
    "print(\"Our Simple 1D Hamiltonian along y Looks Like: \\n {}\".format(simple_h1y))\n",
    "print(\"Our Simple 2D Hamiltonian Looks Like: \\n {}\".format(H_simple))"
   ]
  },
  {
   "cell_type": "markdown",
   "metadata": {},
   "source": [
    "### Hamiltonian Results \n",
    "\n",
    "After the Hamiltonian is generated, the eigenvectors $\\psi_n$ and eigenvectors $E_n$ are found, but this is shown in the full code rather than above. "
   ]
  },
  {
   "cell_type": "markdown",
   "metadata": {},
   "source": [
    "### Finding Rate Constants\n",
    "\n",
    "Not much to explain here. We take a numerical derivative along the flux-side correlation function and find where it's ~0, saving the domains before finding the longest one to use at the intermediate limit in time."
   ]
  },
  {
   "cell_type": "code",
   "execution_count": 57,
   "metadata": {},
   "outputs": [
    {
     "name": "stdout",
     "output_type": "stream",
     "text": [
      "Partition Functions: \n",
      " [8.63930324e-03 9.82193204e-02 4.22178739e-01 8.24743160e-01\n",
      " 1.15425738e+00 1.73690949e+00 2.34854034e+00 2.98075566e+00\n",
      " 3.62856891e+00 4.28873106e+00 5.63768857e+00 7.01575693e+00\n",
      " 8.41588408e+00 9.83347522e+00 1.12653388e+01 1.27091510e+01]\n",
      "Tuples (40, 482)\n",
      "Tuples (489, 526)\n",
      "Tuples (543, 576)\n",
      "Tuples (624, 646)\n",
      "Tuples (662, 694)\n",
      "Tuples (749, 975)\n",
      "Number of index used 261.0\n",
      "Value of csf 1.3313e-06\n",
      "Time 2610.0\n",
      "Rate [Hz] [2.9386848e+09]\n",
      "Truncated Rate [Hz] [2.939e+09]\n"
     ]
    },
    {
     "name": "stderr",
     "output_type": "stream",
     "text": [
      "/var/folders/2h/yqm73phx7ljgrfkrgb88dx000000gn/T/ipykernel_4390/862443966.py:76: RuntimeWarning:\n",
      "\n",
      "invalid value encountered in divide\n",
      "\n"
     ]
    },
    {
     "data": {
      "image/png": "[encoded data removed]",
      "text/plain": [
       "<Figure size 640x480 with 1 Axes>"
      ]
     },
     "metadata": {},
     "output_type": "display_data"
    }
   ],
   "source": [
    "import numpy as np\n",
    "import matplotlib.pyplot as plt\n",
    "import pandas as pd\n",
    "\n",
    "\n",
    "Trange = np.array([100, 200, 400, 600, 750, 1000, 1250, 1500, 1750, 2000, 2500, 3000, 3500, 4000, 4500, 5000])\n",
    "\n",
    "hbar = 1.054571817e-34 # hbar in SI Units [J*s]\n",
    "\n",
    "m = 1.67262192e-27 # mass of proton in kg\n",
    "\n",
    "L = 1e-10 \n",
    "\n",
    "kb = 1.380649e-23\n",
    "\n",
    "#-------------------------------------------------------------------------------- */\n",
    "# Calculate Partition Functions\n",
    "n = np.arange(1, 21, 1)\n",
    "Q = np.empty(shape = len(Trange)) # initialize empty array of dimensions equal to Trange\n",
    "E = (np.pi ** 2 * hbar ** 2) / (2 * m * L ** 2)\n",
    "\n",
    "for i, temp in enumerate(Trange):\n",
    "    T = temp\n",
    "    beta = 1 / (kb * T)\n",
    "    zz = np.exp(-beta * E * n** 2)\n",
    "    final = np.sum(zz)\n",
    "    Q[i] = final**2\n",
    "\n",
    "print(\"Partition Functions: \\n\", Q)\n",
    "\n",
    "#-------------------------------------------------------------------------------- */\n",
    "# FUNCTION DEFINITIONS\n",
    "\n",
    "T = 1500 # CHANGE THIS TO GRAB A DIFFERENT FLUX-SIDE TEMPERATURE\n",
    "\n",
    "chunk_size = 50 # NUMBER OF POINTS FORWARD AND BACK TO CONSIDER IN DERIV.\n",
    "\n",
    "wall_size = 3 # CHANGE THIS TO GRAB A DIFFERENT FLUX-SIDE WALL SIZE\n",
    "\n",
    "gap_size = 6 # CHANGE THIS TO GRAB A DIFFERENT FLUX-SIDE GAP SIZE\n",
    "\n",
    "\n",
    "temp_index = np.where(Trange == T) # get index of Trange array where the temperature match \n",
    "#-------------------------------------------------------------------------------- */\n",
    "# READ IN DATA\n",
    "\n",
    "df = pd.read_csv(\"/Users/mohan/Desktop/Research/pib_review/data/\"+str(wall_size)+\"pt_wall/\"+str(gap_size)+\"pt_gap/side-flux\"+str(Trange[temp_index][0])+\"K.txt\") # read in data\n",
    "\n",
    "# df = pd.read_csv(\"/Users/mohan/Desktop/Refile/2pt_wall/6pt_gap/side-flux\"+str(Trange[temp_index][0])+\".txt\", sep = ' ', header = None).T # if Alec style; my 2 pt wall, 6pt gap are Alec style\n",
    "\n",
    "t = df.iloc[:, 0].to_numpy() # first column is time array\n",
    "c = df.iloc[:, 1].to_numpy() # second column is correlation function array\n",
    "\n",
    "#-------------------------------------------------------------------------------- */\n",
    "# DEFINE FUNCTIONS\n",
    "def zero_slope(data, chunksize = chunk_size, max_slope = .04): # function to find where the numerical derivative is ~ 0 based on chunk size \n",
    "    # (looking at points forwards and backwards) and max_slope\n",
    "    midindex = chunksize / 2\n",
    "    is_plateau = np.zeros((data.shape[0]))\n",
    "    for index in range(int(midindex), len(data) - int(midindex)):\n",
    "        front = index - midindex\n",
    "        back = index + midindex\n",
    "        chunk = data[int(front) : int(back)]\n",
    "        dy_dx = abs(chunk[0] - chunk[-1])/chunksize\n",
    "        if (0 <= dy_dx < max_slope):\n",
    "            is_plateau[index] = 1.0\n",
    "    return is_plateau\n",
    "\n",
    "def ranges(nums): # return tuples of consecutive integers (i.e. find \"widths\" of plateaus in step function)\n",
    "    nums = sorted(set(nums))\n",
    "    gaps = [[s, e] for s, e in zip(nums, nums[1:]) if s+1 < e]\n",
    "    edges = iter(nums[:1] + sum(gaps, []) + nums[-1:])\n",
    "    return list(zip(edges, edges))\n",
    "#-------------------------------------------------------------------------------- */\n",
    "# ANNOYING STUFF\n",
    "small = np.nanmin(c/t) # find min of c/t wile dropping NaN values\n",
    "\n",
    "step_function = zero_slope(data = c, chunksize = chunk_size, max_slope = small*10) # array of all 0's and 1's based on where the plateaus are\n",
    "\n",
    "indices = [idx for idx,val in enumerate(step_function) if val == 1] # grab indices where value is 1\n",
    "\n",
    "new = ranges(indices) # create tuples of consecutive numbers (i.e. find indices for each plateau)\n",
    "\n",
    "lengths = np.zeros(len(new)) # make empty array with same dimensions as \"new\" array \n",
    "\n",
    "for i, val in enumerate(new): # print out tuples\n",
    "    print(\"Tuples\", val)\n",
    "    lengths[i] = val[1] - val[0] \n",
    "\n",
    "#-------------------------------------------------------------------------------- */\n",
    "# NUMERICALLY FIND LARGEST PLATEAU AND SET INDEX (`use_this`) TO THE MIDDLE INDEX OF LONGEST PLATEAU\n",
    "\n",
    "max_value = max(lengths)\n",
    "max_index = list(lengths).index(max_value)\n",
    "\n",
    "largest_tuple = new[max_index]\n",
    "\n",
    "# automatically find widest plateau numerically\n",
    "# index for y value of csf we want to use for calculating the rate \n",
    "\n",
    "use_this = (largest_tuple[0] + (largest_tuple[1] - largest_tuple[0])/2)\n",
    "\n",
    "# use_this = (40 + (59 - 40)/2) # manually set index for widest plateau; index for y value of csf we want to use for calculating the rate \n",
    "\n",
    "print(\"Number of index used\", use_this)\n",
    "\n",
    "csf = c[int(use_this)]\n",
    "\n",
    "print(\"Value of csf\", csf)\n",
    "\n",
    "print(\"Time\", t[int(use_this)])\n",
    "\n",
    "rate = (csf/Q[temp_index]) * 6.57966e15 # rate; multiply hartree value by conversion factor to get Hz\n",
    "print(\"Rate [Hz]\", rate)\n",
    "short_rate = np.around(rate, decimals = -6)\n",
    "print(\"Truncated Rate [Hz]\", short_rate)\n",
    "#-------------------------------------------------------------------------------- */\n",
    "# PLOT\n",
    "plt.plot(t, c, color = 'RoyalBlue')\n",
    "plt.plot(t, step_function*np.nanmax(c), color = 'darkorange') # scale the step function by the maximum of the correlation function so that plotting makes sense\n",
    "plt.axvline(x = t[int(use_this)], color = 'k', linestyle = '--', label = 'plateau value')\n",
    "plt.text(t[int(use_this)], c[int(use_this)] + np.nanmin(c), str(short_rate)+\"Hz\")\n",
    "plt.xlabel(\"t\")\n",
    "plt.ylabel(r\"$C_{fs}$\")\n",
    "# plt.savefig(\"/Users/mohan/Desktop/well-behaved_ff_1000k_2wall_6gap.png\", dpi = 500)\n",
    "plt.show()"
   ]
  },
  {
   "cell_type": "markdown",
   "metadata": {},
   "source": [
    "### Rate Constant Extrapolation\n",
    "\n",
    "For our system, there are three main parameters: gap size, temperature, and wall thickness. Mathematically, TST and QTST work at infinitely thin wall thickness, so we need to extrapolate the rate constants as wall thickness goes to 0. To this end, we hold temperature and gap size fixed.\n",
    "\n",
    "<center>\n",
    "<img src=\"effus_system.png\" width=\"700\">\n",
    "</center>\n",
    "\n",
    "Diagram of the system, not to scale. The black points represent how the system was spatially discretized. The red lines represent walls where the wavefunction and at and outside the walls are set to zero. The blue line represents the dividing surface separating the reactant region (left box) and empty space (right box). Finally, the blue curly brace denotes the gap size while the black curly brace marks wall thickness."
   ]
  },
  {
   "cell_type": "markdown",
   "metadata": {},
   "source": [
    "### The following code shows how the rate constants are extrapolated as wall thickness tends to 0."
   ]
  },
  {
   "cell_type": "code",
   "execution_count": 8,
   "metadata": {},
   "outputs": [],
   "source": [
    "import pandas as pd\n",
    "import matplotlib.pyplot as plt\n",
    "import numpy as np\n",
    "\n",
    "df = pd.read_excel(\"/Users/mohan/Desktop/Research/thesis/rates/all_rates_clean.xlsx\").dropna()"
   ]
  },
  {
   "cell_type": "code",
   "execution_count": 9,
   "metadata": {},
   "outputs": [
    {
     "data": {
      "text/html": [
       "<div>\n",
       "<style scoped>\n",
       "    .dataframe tbody tr th:only-of-type {\n",
       "        vertical-align: middle;\n",
       "    }\n",
       "\n",
       "    .dataframe tbody tr th {\n",
       "        vertical-align: top;\n",
       "    }\n",
       "\n",
       "    .dataframe thead th {\n",
       "        text-align: right;\n",
       "    }\n",
       "</style>\n",
       "<table border=\"1\" class=\"dataframe\">\n",
       "  <thead>\n",
       "    <tr style=\"text-align: right;\">\n",
       "      <th></th>\n",
       "      <th>Temperature [K]</th>\n",
       "      <th>Wall Thickness</th>\n",
       "      <th>Gap Size</th>\n",
       "      <th>Rate</th>\n",
       "    </tr>\n",
       "  </thead>\n",
       "  <tbody>\n",
       "    <tr>\n",
       "      <th>0</th>\n",
       "      <td>100</td>\n",
       "      <td>1</td>\n",
       "      <td>2</td>\n",
       "      <td>1.160000e+07</td>\n",
       "    </tr>\n",
       "    <tr>\n",
       "      <th>1</th>\n",
       "      <td>200</td>\n",
       "      <td>1</td>\n",
       "      <td>2</td>\n",
       "      <td>1.310000e+07</td>\n",
       "    </tr>\n",
       "    <tr>\n",
       "      <th>2</th>\n",
       "      <td>400</td>\n",
       "      <td>1</td>\n",
       "      <td>2</td>\n",
       "      <td>2.230000e+07</td>\n",
       "    </tr>\n",
       "    <tr>\n",
       "      <th>3</th>\n",
       "      <td>600</td>\n",
       "      <td>1</td>\n",
       "      <td>2</td>\n",
       "      <td>3.610000e+07</td>\n",
       "    </tr>\n",
       "    <tr>\n",
       "      <th>4</th>\n",
       "      <td>750</td>\n",
       "      <td>1</td>\n",
       "      <td>2</td>\n",
       "      <td>4.970000e+07</td>\n",
       "    </tr>\n",
       "    <tr>\n",
       "      <th>...</th>\n",
       "      <td>...</td>\n",
       "      <td>...</td>\n",
       "      <td>...</td>\n",
       "      <td>...</td>\n",
       "    </tr>\n",
       "    <tr>\n",
       "      <th>395</th>\n",
       "      <td>3000</td>\n",
       "      <td>5</td>\n",
       "      <td>10</td>\n",
       "      <td>1.496231e+11</td>\n",
       "    </tr>\n",
       "    <tr>\n",
       "      <th>396</th>\n",
       "      <td>3500</td>\n",
       "      <td>5</td>\n",
       "      <td>10</td>\n",
       "      <td>1.935069e+11</td>\n",
       "    </tr>\n",
       "    <tr>\n",
       "      <th>397</th>\n",
       "      <td>4000</td>\n",
       "      <td>5</td>\n",
       "      <td>10</td>\n",
       "      <td>2.366368e+11</td>\n",
       "    </tr>\n",
       "    <tr>\n",
       "      <th>398</th>\n",
       "      <td>4500</td>\n",
       "      <td>5</td>\n",
       "      <td>10</td>\n",
       "      <td>2.782765e+11</td>\n",
       "    </tr>\n",
       "    <tr>\n",
       "      <th>399</th>\n",
       "      <td>5000</td>\n",
       "      <td>5</td>\n",
       "      <td>10</td>\n",
       "      <td>3.181072e+11</td>\n",
       "    </tr>\n",
       "  </tbody>\n",
       "</table>\n",
       "<p>400 rows × 4 columns</p>\n",
       "</div>"
      ],
      "text/plain": [
       "     Temperature [K]  Wall Thickness  Gap Size          Rate\n",
       "0                100               1         2  1.160000e+07\n",
       "1                200               1         2  1.310000e+07\n",
       "2                400               1         2  2.230000e+07\n",
       "3                600               1         2  3.610000e+07\n",
       "4                750               1         2  4.970000e+07\n",
       "..               ...             ...       ...           ...\n",
       "395             3000               5        10  1.496231e+11\n",
       "396             3500               5        10  1.935069e+11\n",
       "397             4000               5        10  2.366368e+11\n",
       "398             4500               5        10  2.782765e+11\n",
       "399             5000               5        10  3.181072e+11\n",
       "\n",
       "[400 rows x 4 columns]"
      ]
     },
     "execution_count": 9,
     "metadata": {},
     "output_type": "execute_result"
    }
   ],
   "source": [
    "df # display what was in the excel document"
   ]
  },
  {
   "cell_type": "code",
   "execution_count": 37,
   "metadata": {},
   "outputs": [],
   "source": [
    "T = 1500\n",
    "gap_size = 6\n",
    "\n",
    "\n",
    "filtered_df = df[(df['Temperature [K]'] == T) & (df['Gap Size'] == gap_size)]\n",
    "\n",
    "# Take the first five rows that meet the criteria\n",
    "result = filtered_df.head(5)"
   ]
  },
  {
   "cell_type": "code",
   "execution_count": 38,
   "metadata": {},
   "outputs": [
    {
     "data": {
      "text/html": [
       "<div>\n",
       "<style scoped>\n",
       "    .dataframe tbody tr th:only-of-type {\n",
       "        vertical-align: middle;\n",
       "    }\n",
       "\n",
       "    .dataframe tbody tr th {\n",
       "        vertical-align: top;\n",
       "    }\n",
       "\n",
       "    .dataframe thead th {\n",
       "        text-align: right;\n",
       "    }\n",
       "</style>\n",
       "<table border=\"1\" class=\"dataframe\">\n",
       "  <thead>\n",
       "    <tr style=\"text-align: right;\">\n",
       "      <th></th>\n",
       "      <th>Temperature [K]</th>\n",
       "      <th>Wall Thickness</th>\n",
       "      <th>Gap Size</th>\n",
       "      <th>Rate</th>\n",
       "    </tr>\n",
       "  </thead>\n",
       "  <tbody>\n",
       "    <tr>\n",
       "      <th>39</th>\n",
       "      <td>1500</td>\n",
       "      <td>1</td>\n",
       "      <td>6</td>\n",
       "      <td>1.530000e+10</td>\n",
       "    </tr>\n",
       "    <tr>\n",
       "      <th>119</th>\n",
       "      <td>1500</td>\n",
       "      <td>2</td>\n",
       "      <td>6</td>\n",
       "      <td>6.551724e+09</td>\n",
       "    </tr>\n",
       "    <tr>\n",
       "      <th>199</th>\n",
       "      <td>1500</td>\n",
       "      <td>3</td>\n",
       "      <td>6</td>\n",
       "      <td>2.938600e+09</td>\n",
       "    </tr>\n",
       "    <tr>\n",
       "      <th>279</th>\n",
       "      <td>1500</td>\n",
       "      <td>4</td>\n",
       "      <td>6</td>\n",
       "      <td>1.343632e+09</td>\n",
       "    </tr>\n",
       "    <tr>\n",
       "      <th>359</th>\n",
       "      <td>1500</td>\n",
       "      <td>5</td>\n",
       "      <td>6</td>\n",
       "      <td>6.197660e+08</td>\n",
       "    </tr>\n",
       "  </tbody>\n",
       "</table>\n",
       "</div>"
      ],
      "text/plain": [
       "     Temperature [K]  Wall Thickness  Gap Size          Rate\n",
       "39              1500               1         6  1.530000e+10\n",
       "119             1500               2         6  6.551724e+09\n",
       "199             1500               3         6  2.938600e+09\n",
       "279             1500               4         6  1.343632e+09\n",
       "359             1500               5         6  6.197660e+08"
      ]
     },
     "execution_count": 38,
     "metadata": {},
     "output_type": "execute_result"
    }
   ],
   "source": [
    "result # show filtered out results "
   ]
  },
  {
   "cell_type": "code",
   "execution_count": 39,
   "metadata": {},
   "outputs": [
    {
     "data": {
      "text/plain": [
       "39     10.184691\n",
       "119     9.816356\n",
       "199     9.468140\n",
       "279     9.128280\n",
       "359     8.792228\n",
       "Name: Rate, dtype: float64"
      ]
     },
     "execution_count": 39,
     "metadata": {},
     "output_type": "execute_result"
    }
   ],
   "source": [
    "wall_thickness = result.iloc[:, 1]\n",
    "rates = np.log10(result.iloc[:, -1]) # take log base 10 of rate constants\n",
    "\n",
    "rates"
   ]
  },
  {
   "cell_type": "code",
   "execution_count": 44,
   "metadata": {},
   "outputs": [
    {
     "name": "stdout",
     "output_type": "stream",
     "text": [
      "Rate Constants: \n",
      " 39     10.184691\n",
      "119     9.816356\n",
      "199     9.468140\n",
      "279     9.128280\n",
      "359     8.792228\n",
      "Name: Rate, dtype: float64\n",
      "Fit: [ 5.20867750e-03 -3.78552319e-01  1.05563006e+01]\n",
      "Extrapolated Rate Constant: 10.556300635396822\n",
      "Extrapolated Error: 0.007932190001653081\n",
      "Fixed Rate: 3.599985e+10\n"
     ]
    },
    {
     "data": {
      "image/png": "[encoded data removed]",
      "text/plain": [
       "<Figure size 640x480 with 1 Axes>"
      ]
     },
     "metadata": {},
     "output_type": "display_data"
    }
   ],
   "source": [
    "# fit polynomial to k vs. wall thickness\n",
    "\n",
    "order = 2 # change the order b/t 1 (linear), 2 (quadratic), and 3 (cubic) to see how the fits and error changes\n",
    "\n",
    "fit, cov_matrix = np.polyfit(wall_thickness, rates, order, cov = True) # fit 3rd order polynomial to data and return covariance matrix\n",
    "\n",
    "print(\"Rate Constants: \\n {}\".format(rates))\n",
    "\n",
    "errors = np.sqrt(np.diag(cov_matrix))\n",
    "\n",
    "print(\"Fit:\", fit)\n",
    "\n",
    "quad_sum = np.sqrt(np.sum(np.square(errors))) # find quadrature sum to propagate error\n",
    "\n",
    "x = np.linspace(0, 6, 100)\n",
    "\n",
    "# FOR THE SAKE OF PLOTTING\n",
    "if order == 3:\n",
    "    y = fit[0] * x**3 + fit[1] * x**2 + fit[2] * x + fit[3] # 3rd order polynomial\n",
    "elif order == 2:\n",
    "    y = fit[0] * x**2 + fit[1] * x + fit[2] # 2nd order polynomial\n",
    "elif order == 1:\n",
    "    y = fit[0] * x + fit[1]  # 1st order polynomial\n",
    "\n",
    "# FOR THE SAKE OF PLOTTING\n",
    "\n",
    "print(\"Extrapolated Rate Constant:\", fit[-1]) # grab last element of array which corresponds to weight for lowest order term, i.e. the y-intercept \n",
    "print(\"Extrapolated Error:\", errors[-1])\n",
    "\n",
    "print(\"Fixed Rate: {:e}\".format(10**fit[-1]))\n",
    "\n",
    "plt.scatter(wall_thickness, rates, color = 'k', label = 'k(T)')\n",
    "plt.plot(x, y, color = 'r', linestyle = '--', label = 'fit')\n",
    "plt.xlabel(r'$\\bf{Wall \\, \\, Thickness \\, \\, [points]}$')\n",
    "plt.ylabel(r'$\\bf{log(k_q)}$')\n",
    "plt.legend()\n",
    "plt.title(r'$ \\bf{6 \\, PT. Gap \\, \\,  at \\, \\, 1500 \\, [K]}$')\n",
    "plt.show();"
   ]
  },
  {
   "cell_type": "markdown",
   "metadata": {},
   "source": [
    "# Figure Creation:"
   ]
  },
  {
   "cell_type": "markdown",
   "metadata": {},
   "source": [
    "## Effusion System "
   ]
  },
  {
   "cell_type": "code",
   "execution_count": 11,
   "metadata": {},
   "outputs": [
    {
     "name": "stdout",
     "output_type": "stream",
     "text": [
      "Matrices created!\n",
      "Slit created!\n",
      "Eigs found!\n",
      "(array([  20,   21,   22, ..., 3197, 3198, 3199]),)\n",
      "Eigs done!\n"
     ]
    },
    {
     "data": {
      "image/png": "[encoded data removed]",
      "text/plain": [
       "<Figure size 640x480 with 2 Axes>"
      ]
     },
     "metadata": {},
     "output_type": "display_data"
    }
   ],
   "source": [
    "#/* --------------------------------------------------------------------------------\n",
    "#   Egorov Group\n",
    "#   University of Virginia\n",
    "#   Mohan Shankar\n",
    "#\n",
    "#   effusion_plotter.py\n",
    "#   \"This file calculates eigenfunctions of particle in a box in the presence of a slit\"\n",
    "#-------------------------------------------------------------------------------- */\n",
    "# DEPENDENCIES\n",
    "import numpy as np\n",
    "import matplotlib.pyplot as plt\n",
    "import time\n",
    "#-------------------------------------------------------------------------------- */\n",
    "start_time = time.time()\n",
    "\n",
    "\n",
    "# INPUTS\n",
    "me = 5.485799e-4 # Electron mass in daltons\n",
    "m_au = 1.0 / me\n",
    "\n",
    "lx = 1.0 # Angstroms\n",
    "ly = 8.0 # Angstroms\n",
    "\n",
    "a0 = 0.529177258 # Bohr radius\n",
    "\n",
    "lx_au = lx/a0\n",
    "ly_au = ly/a0 \n",
    "\n",
    "nnx = 20 # number of points in x; set low for debugging\n",
    "nny = 160 # number of points in y; set low for debugging\n",
    "\n",
    "xmin = 0\n",
    "xmax = lx_au\n",
    "\n",
    "ymin = 0\n",
    "ymax = ly_au\n",
    "\n",
    "dx = (xmax-xmin)/(nnx+1)\n",
    "dy = (ymax-ymin)/(nny+1)\n",
    "\n",
    "pi = np.pi\n",
    "\n",
    "nd = 2 # length of stencil \n",
    "wall_thickness = 2\n",
    "cd = np.zeros(nd) \n",
    "nn = 10 # number of points on dividing surface?\n",
    "gap_size = 10.0\n",
    "#-------------------------------------------------------------------------------- */\n",
    "# FUNCTION DEFINITIONS\n",
    "\n",
    "def kron_sum(A1, A2):\n",
    "    '''\n",
    "    Assumes A1, A2 are nxn, mxm matrices where n can be equal to m\n",
    "    '''\n",
    "    i1 = np.identity(len(A1[0]))\n",
    "    i2 = np.identity(len(A2[0]))\n",
    "    return np.kron(A1,i2) + np.kron(i1, A2)\n",
    "\n",
    "\n",
    "def PIB_one(points, lmax, lmin, mass, hbar=1):  \n",
    "    '''\n",
    "    function to return eigenvalues and eigenvectors of a Hamiltonian matrix \n",
    "    eigvals returned in array where eigvals[0] gives a float corresponding to n = 1; units of Joules since I defined my analytic formula with SI units\n",
    "    eigvecs returned in array of arrays where eigvecs[:, i] (column vectors) gives an array corresponding to n = i at each point in the box defined by grid spacing dx\n",
    "    '''\n",
    "    dn = (lmax-lmin)/(points+1)\n",
    "    dn2 = dn**2  # second derivative\n",
    "    H = np.zeros((points, points)) # initialize \n",
    "    z = -pi**2/3.0  # weight for diagonal\n",
    "    for i in range(points):\n",
    "        for j in range(points):\n",
    "            if i == j:\n",
    "                H[i][j] = z # weight for diagonals of matrix\n",
    "            else:\n",
    "                H[i][j] = (2/(i-j)**2)*((-1)**(i-j+1))  # weights for non-diagonals\n",
    "    H *= (-1/(2*mass*dn2)) # hbar = 1 hence 1/(2 * mass * dn2)\n",
    "    return H\n",
    "#-------------------------------------------------------------------------------- */\n",
    "# CREATE MATRICES \n",
    "h1_x = PIB_one(nnx, xmax, xmin, m_au) # 1-D Hamiltonian from x points\n",
    "h1_y = PIB_one(nny, ymax, ymin, m_au) # 1-D Hamiltonian from y points\n",
    "\n",
    "H = kron_sum(h1_x, h1_y) # 2-D Hamiltonian\n",
    "# STENCIL FOR FLUX ALONG DIVIDING SURFACE\n",
    "for k in range(nd):\n",
    "    zz = 1.0\n",
    "    for j in range(nd):\n",
    "        if j != k:\n",
    "            zz *= ((j+1)**2) / ((j+1)**2 - (k+1)**2)\n",
    "        else:\n",
    "            continue\n",
    "    cd[k] = zz/(2*(k+1))\n",
    "\n",
    "print(\"Matrices created!\")\n",
    "#-------------------------------------------------------------------------------- */\n",
    "# MAKE EFFUSION SLIT BY ZEROING OUT HAMILTONIAN\n",
    "i = -1\n",
    "\n",
    "for k in range(nnx):\n",
    "    for j in range(nny):\n",
    "        i = i+1\n",
    "        x = dx * k + xmin\n",
    "        y = dy * j + ymin\n",
    "        if (1.0 / a0) < y < (1.0 / a0 + wall_thickness * dy):\n",
    "            if x <(0.5 * xmax - (gap_size/2) * dx) or x >(0.5 * xmax + (gap_size/2) * dx):\n",
    "                H[i] = np.zeros(nnx * nny)\n",
    "                H[:, i] = np.zeros(nnx * nny)\n",
    "                H[i, i] = -1\n",
    "print(\"Slit created!\")\n",
    "#-------------------------------------------------------------------------------- */\n",
    "# CALCULATE EIGENVECTORS AND VALUES\n",
    "eigvals, eigvecs = np.linalg.eigh(H) # find eigenvalues and eigenvectors\n",
    "print(\"Eigs found!\")\n",
    "#-------------------------------------------------------------------------------- */\n",
    "# CLEANUP OF DATA\n",
    "psi = np.transpose(eigvecs) # vectors returned in column form so take transpose for easier indexing\n",
    "\n",
    "psi = psi[np.argsort(eigvals)]\n",
    "energies = eigvals[np.argsort(eigvals).real]\n",
    "\n",
    "cut = np.where(energies > 0)\n",
    "print(cut)\n",
    "energies = energies[cut]\n",
    "psi = psi[cut]\n",
    "\n",
    "for i in range(len(psi)):\n",
    "    normalization = np.sqrt(np.sum(psi[i]**2 * dy * dx))\n",
    "    psi[i] = psi[i]/normalization\n",
    "\n",
    "print(\"Eigs done!\")\n",
    "#-------------------------------------------------------------------------------- */\n",
    "# PLOTTING\n",
    "a = 4 # excited state value\n",
    "\n",
    "psi_plot = psi[a].reshape(nnx, nny)\n",
    "psi_2 = psi[a]**2\n",
    "\n",
    "x1, y2 = np.linspace(0, xmax, nnx), np.linspace(0, ymax, nny) \n",
    "x, y = np.meshgrid(y2, x1)\n",
    "\n",
    "num_plot = plt.imshow(psi_plot.reshape(nnx, nny))\n",
    "num_cb = plt.colorbar(num_plot, orientation = 'horizontal')\n",
    "num_cb.set_label(r\"$\\Psi $, Energy State: \"+str(a))\n",
    "# plt.savefig(\"/Users/mohan/Desktop/2pt_wall-10pt_gap-\"+str(a)+\"excited.png\", dpi = 600)\n",
    "\n",
    "plt.show()\n",
    "#-------------------------------------------------------------------------------- */\n"
   ]
  },
  {
   "cell_type": "markdown",
   "metadata": {},
   "source": [
    "## Ratio of Analytic to Numeric Eigenvalues"
   ]
  },
  {
   "cell_type": "code",
   "execution_count": 45,
   "metadata": {},
   "outputs": [],
   "source": [
    "#-------------------------------------------------------------------------------- */\n",
    "# DEPENDENCIES\n",
    "import numpy as np\n",
    "import matplotlib.pyplot as plt\n",
    "#-------------------------------------------------------------------------------- */\n",
    "# DECLARE VARIABLES\n",
    "import scipy.constants\n",
    "hbar = scipy.constants.hbar\n",
    "m = scipy.constants.m_p\n",
    "L = 1e-10\n",
    "\n",
    "pi = scipy.constants.pi\n",
    "\n",
    "har_to_j = 4.35974e-18\n",
    "#-------------------------------------------------------------------------------- */\n",
    "# SET ANALYTIC PARAMETERS\n",
    "n = np.arange(1, 61, 1)\n",
    "\n",
    "nx = np.arange(1, 31, 1)\n",
    "ny = np.arange(1, 31, 1)\n",
    "\n",
    "m = 1.67262192e-27 # mass of proton in kg\n",
    "#-------------------------------------------------------------------------------- */\n",
    "# CALCULATE ANALYTIC VALUES\n",
    "final = np.ones((len(nx), len(ny)))\n",
    "\n",
    "for i, val1 in enumerate(nx):\n",
    "    for j, val2 in enumerate(ny):\n",
    "        E_ij = ((hbar**2 * pi**2)/ (2 * m * L**2) * (i**2 + j**2))\n",
    "        final[i][j] = E_ij\n",
    "\n",
    "analytic = final.reshape((len(nx)* len(ny)))\n",
    "\n",
    "sorted_ana = np.sort(analytic)\n",
    "\n",
    "sorted_ana_final = sorted_ana[0:]\n",
    "\n",
    "# print(sorted_ana_final)\n",
    "#-------------------------------------------------------------------------------- */\n",
    "# INPUTS\n",
    "me = 5.485799e-4 # Electron mass in daltons\n",
    "m_au = 1.0 / me\n",
    "\n",
    "lx = 1.0 # Angstroms\n",
    "ly = 8.0 # Angstroms\n",
    "\n",
    "a0 = 0.529177258 # Bohr radius\n",
    "\n",
    "lx_au = lx/a0\n",
    "ly_au = ly/a0 \n",
    "\n",
    "nnx = 20\n",
    "nny = 160 \n",
    "\n",
    "xmin = 0\n",
    "xmax = lx_au\n",
    "\n",
    "ymin = 0\n",
    "ymax = ly_au\n",
    "\n",
    "dx = (xmax-xmin)/(nnx+1)\n",
    "dy = (ymax-ymin)/(nny+1)\n",
    "\n",
    "pi = np.pi\n",
    "\n",
    "nd = 2 # \n",
    "wall_thickness = 1\n",
    "cd = np.zeros(nd) \n",
    "nn = 10000 \n",
    "\n",
    "gap_size = 4.0\n",
    "#-------------------------------------------------------------------------------- */\n",
    "# FUNCTION DEFINITIONS\n",
    "\n",
    "def kron_sum(A1, A2):\n",
    "    '''\n",
    "    Assumes A1, A2 are nxn, mxm matrices where n can be equal to m\n",
    "    '''\n",
    "    i1 = np.identity(len(A1[0]))\n",
    "    i2 = np.identity(len(A2[0]))\n",
    "    return np.kron(A1,i2) + np.kron(i1, A2)\n",
    "\n",
    "\n",
    "def PIB_one(points, lmax, lmin, mass, hbar=1):  \n",
    "    '''\n",
    "    function to return eigenvalues and eigenvectors of a Hamiltonian matrix \n",
    "    eigvals returned in array where eigvals[0] gives a float corresponding to n = 1; units of Joules since I defined my analytic formula with SI units\n",
    "    eigvecs returned in array of arrays where eigvecs[:, i] (column vectors) gives an array corresponding to n = i at each point in the box defined by grid spacing dx\n",
    "    '''\n",
    "    dn = (lmax-lmin)/(points+1)\n",
    "    dn2 = dn**2  # second derivative\n",
    "    H = np.zeros((points, points)) # initialize \n",
    "    z = -pi**2/3.0  # weight for diagonal\n",
    "    for i in range(points):\n",
    "        for j in range(points):\n",
    "            if i == j:\n",
    "                H[i][j] = z # weight for diagonals of matrix\n",
    "            else:\n",
    "                H[i][j] = (2/(i-j)**2)*((-1)**(i-j+1))  # weights for non-diagonals\n",
    "    H *= (-1/(2*mass*dn2)) # hbar = 1 hence 1/(2 * mass * dn2)\n",
    "    return H\n",
    "#-------------------------------------------------------------------------------- */\n",
    "# CREATE MATRICES \n",
    "h1_x = PIB_one(nnx, xmax, xmin, m_au) # 1-D Hamiltonian from x points\n",
    "h1_y = PIB_one(nny, ymax, ymin, m_au) # 1-D Hamiltonian from y points\n",
    "\n",
    "H = kron_sum(h1_x, h1_y) # 2-D Hamiltonian\n",
    "\n",
    "eigvals, eigvecs = np.linalg.eigh(H) # find eigenvalues and eigenvectors"
   ]
  },
  {
   "cell_type": "code",
   "execution_count": 46,
   "metadata": {},
   "outputs": [
    {
     "name": "stderr",
     "output_type": "stream",
     "text": [
      "/var/folders/2h/yqm73phx7ljgrfkrgb88dx000000gn/T/ipykernel_4390/2724168324.py:9: RuntimeWarning:\n",
      "\n",
      "divide by zero encountered in divide\n",
      "\n"
     ]
    },
    {
     "data": {
      "image/png": "[encoded data removed]",
      "text/plain": [
       "<Figure size 640x480 with 1 Axes>"
      ]
     },
     "metadata": {},
     "output_type": "display_data"
    }
   ],
   "source": [
    "from matplotlib.ticker import AutoMinorLocator\n",
    "\n",
    "har_to_j = 4.35974e-18\n",
    "\n",
    "eigvals_si = eigvals * har_to_j # eigvals in hartree, so mult. by conversion factor to get energy in Joules\n",
    "\n",
    "fig, ax = plt.subplots()\n",
    "\n",
    "ax.plot(n, (eigvals_si[0:60])/sorted_ana_final[0:60], color = 'red', linestyle = '--')\n",
    "\n",
    "ax.set_xlabel('Energy Level, n')\n",
    "ax.set_ylabel('Ratio')\n",
    "ax.set_title(r'Ratio of Numeric to Analytic Eigenvalues')\n",
    "\n",
    "ax.tick_params(bottom=True, top=True, left=True, right=True)\n",
    "ax.tick_params(labelbottom=True, labeltop=False, labelleft=True, labelright=False)\n",
    "\n",
    "ax.tick_params(axis=\"x\",direction = \"in\",length=5)\n",
    "ax.tick_params(axis=\"y\",direction=\"in\",length=5)\n",
    "\n",
    "for axis in ['top','bottom','left','right']:\n",
    "    ax.spines[axis].set_linewidth(1.4)\n",
    "\n",
    "ax.tick_params(width=1.4)\n",
    "ax.xaxis.set_minor_locator(AutoMinorLocator())\n",
    "ax.tick_params(top=True, which='minor', length=3,direction='in',width = 1.4)\n",
    "ax.yaxis.set_minor_locator(AutoMinorLocator())"
   ]
  },
  {
   "cell_type": "markdown",
   "metadata": {},
   "source": [
    "## Rate Constants vs. Temp"
   ]
  },
  {
   "cell_type": "code",
   "execution_count": 47,
   "metadata": {},
   "outputs": [],
   "source": [
    "import pandas as pd\n",
    "import matplotlib.pyplot as plt\n",
    "import numpy as np\n",
    "\n",
    "df = pd.read_excel(\"/Users/mohan/Desktop/Research/pib_review/data/final_comparisons.xlsx\") # read in data"
   ]
  },
  {
   "cell_type": "code",
   "execution_count": 48,
   "metadata": {},
   "outputs": [
    {
     "data": {
      "text/html": [
       "<div>\n",
       "<style scoped>\n",
       "    .dataframe tbody tr th:only-of-type {\n",
       "        vertical-align: middle;\n",
       "    }\n",
       "\n",
       "    .dataframe tbody tr th {\n",
       "        vertical-align: top;\n",
       "    }\n",
       "\n",
       "    .dataframe thead th {\n",
       "        text-align: right;\n",
       "    }\n",
       "</style>\n",
       "<table border=\"1\" class=\"dataframe\">\n",
       "  <thead>\n",
       "    <tr style=\"text-align: right;\">\n",
       "      <th></th>\n",
       "      <th>Temperature [K]</th>\n",
       "      <th>Rate</th>\n",
       "      <th>Formalism</th>\n",
       "      <th>Gap Size</th>\n",
       "    </tr>\n",
       "  </thead>\n",
       "  <tbody>\n",
       "    <tr>\n",
       "      <th>0</th>\n",
       "      <td>100</td>\n",
       "      <td>20800000</td>\n",
       "      <td>Q</td>\n",
       "      <td>2</td>\n",
       "    </tr>\n",
       "    <tr>\n",
       "      <th>1</th>\n",
       "      <td>200</td>\n",
       "      <td>23490000</td>\n",
       "      <td>Q</td>\n",
       "      <td>2</td>\n",
       "    </tr>\n",
       "    <tr>\n",
       "      <th>2</th>\n",
       "      <td>400</td>\n",
       "      <td>39990000</td>\n",
       "      <td>Q</td>\n",
       "      <td>2</td>\n",
       "    </tr>\n",
       "    <tr>\n",
       "      <th>3</th>\n",
       "      <td>600</td>\n",
       "      <td>64730000</td>\n",
       "      <td>Q</td>\n",
       "      <td>2</td>\n",
       "    </tr>\n",
       "    <tr>\n",
       "      <th>4</th>\n",
       "      <td>750</td>\n",
       "      <td>89110000</td>\n",
       "      <td>Q</td>\n",
       "      <td>2</td>\n",
       "    </tr>\n",
       "    <tr>\n",
       "      <th>...</th>\n",
       "      <td>...</td>\n",
       "      <td>...</td>\n",
       "      <td>...</td>\n",
       "      <td>...</td>\n",
       "    </tr>\n",
       "    <tr>\n",
       "      <th>155</th>\n",
       "      <td>3000</td>\n",
       "      <td>3308700000000</td>\n",
       "      <td>C</td>\n",
       "      <td>10</td>\n",
       "    </tr>\n",
       "    <tr>\n",
       "      <th>156</th>\n",
       "      <td>3500</td>\n",
       "      <td>3573800000000</td>\n",
       "      <td>C</td>\n",
       "      <td>10</td>\n",
       "    </tr>\n",
       "    <tr>\n",
       "      <th>157</th>\n",
       "      <td>4000</td>\n",
       "      <td>3820600000000</td>\n",
       "      <td>C</td>\n",
       "      <td>10</td>\n",
       "    </tr>\n",
       "    <tr>\n",
       "      <th>158</th>\n",
       "      <td>4500</td>\n",
       "      <td>4052400000000</td>\n",
       "      <td>C</td>\n",
       "      <td>10</td>\n",
       "    </tr>\n",
       "    <tr>\n",
       "      <th>159</th>\n",
       "      <td>5000</td>\n",
       "      <td>4271600000000</td>\n",
       "      <td>C</td>\n",
       "      <td>10</td>\n",
       "    </tr>\n",
       "  </tbody>\n",
       "</table>\n",
       "<p>160 rows × 4 columns</p>\n",
       "</div>"
      ],
      "text/plain": [
       "     Temperature [K]           Rate Formalism Gap Size\n",
       "0                100       20800000         Q        2\n",
       "1                200       23490000         Q        2\n",
       "2                400       39990000         Q        2\n",
       "3                600       64730000         Q        2\n",
       "4                750       89110000         Q        2\n",
       "..               ...            ...       ...      ...\n",
       "155             3000  3308700000000         C       10\n",
       "156             3500  3573800000000         C       10\n",
       "157             4000  3820600000000         C       10\n",
       "158             4500  4052400000000         C       10\n",
       "159             5000  4271600000000         C       10\n",
       "\n",
       "[160 rows x 4 columns]"
      ]
     },
     "execution_count": 48,
     "metadata": {},
     "output_type": "execute_result"
    }
   ],
   "source": [
    "df[\"Gap Size\"] = df[\"Gap Size\"].astype(str) # setting type to str makes for discrete points in plot legend\n",
    "df # show our data"
   ]
  },
  {
   "cell_type": "code",
   "execution_count": 49,
   "metadata": {},
   "outputs": [
    {
     "data": {
      "text/html": [
       "<div>\n",
       "<style scoped>\n",
       "    .dataframe tbody tr th:only-of-type {\n",
       "        vertical-align: middle;\n",
       "    }\n",
       "\n",
       "    .dataframe tbody tr th {\n",
       "        vertical-align: top;\n",
       "    }\n",
       "\n",
       "    .dataframe thead th {\n",
       "        text-align: right;\n",
       "    }\n",
       "</style>\n",
       "<table border=\"1\" class=\"dataframe\">\n",
       "  <thead>\n",
       "    <tr style=\"text-align: right;\">\n",
       "      <th></th>\n",
       "      <th>Temperature [K]</th>\n",
       "      <th>Rate</th>\n",
       "      <th>Formalism</th>\n",
       "      <th>Gap Size</th>\n",
       "    </tr>\n",
       "  </thead>\n",
       "  <tbody>\n",
       "    <tr>\n",
       "      <th>0</th>\n",
       "      <td>100</td>\n",
       "      <td>20800000</td>\n",
       "      <td>Q</td>\n",
       "      <td>2</td>\n",
       "    </tr>\n",
       "    <tr>\n",
       "      <th>1</th>\n",
       "      <td>200</td>\n",
       "      <td>23490000</td>\n",
       "      <td>Q</td>\n",
       "      <td>2</td>\n",
       "    </tr>\n",
       "    <tr>\n",
       "      <th>2</th>\n",
       "      <td>400</td>\n",
       "      <td>39990000</td>\n",
       "      <td>Q</td>\n",
       "      <td>2</td>\n",
       "    </tr>\n",
       "    <tr>\n",
       "      <th>3</th>\n",
       "      <td>600</td>\n",
       "      <td>64730000</td>\n",
       "      <td>Q</td>\n",
       "      <td>2</td>\n",
       "    </tr>\n",
       "    <tr>\n",
       "      <th>4</th>\n",
       "      <td>750</td>\n",
       "      <td>89110000</td>\n",
       "      <td>Q</td>\n",
       "      <td>2</td>\n",
       "    </tr>\n",
       "    <tr>\n",
       "      <th>...</th>\n",
       "      <td>...</td>\n",
       "      <td>...</td>\n",
       "      <td>...</td>\n",
       "      <td>...</td>\n",
       "    </tr>\n",
       "    <tr>\n",
       "      <th>155</th>\n",
       "      <td>3000</td>\n",
       "      <td>3308700000000</td>\n",
       "      <td>C</td>\n",
       "      <td>10</td>\n",
       "    </tr>\n",
       "    <tr>\n",
       "      <th>156</th>\n",
       "      <td>3500</td>\n",
       "      <td>3573800000000</td>\n",
       "      <td>C</td>\n",
       "      <td>10</td>\n",
       "    </tr>\n",
       "    <tr>\n",
       "      <th>157</th>\n",
       "      <td>4000</td>\n",
       "      <td>3820600000000</td>\n",
       "      <td>C</td>\n",
       "      <td>10</td>\n",
       "    </tr>\n",
       "    <tr>\n",
       "      <th>158</th>\n",
       "      <td>4500</td>\n",
       "      <td>4052400000000</td>\n",
       "      <td>C</td>\n",
       "      <td>10</td>\n",
       "    </tr>\n",
       "    <tr>\n",
       "      <th>159</th>\n",
       "      <td>5000</td>\n",
       "      <td>4271600000000</td>\n",
       "      <td>C</td>\n",
       "      <td>10</td>\n",
       "    </tr>\n",
       "  </tbody>\n",
       "</table>\n",
       "<p>160 rows × 4 columns</p>\n",
       "</div>"
      ],
      "text/plain": [
       "     Temperature [K]           Rate Formalism Gap Size\n",
       "0                100       20800000         Q        2\n",
       "1                200       23490000         Q        2\n",
       "2                400       39990000         Q        2\n",
       "3                600       64730000         Q        2\n",
       "4                750       89110000         Q        2\n",
       "..               ...            ...       ...      ...\n",
       "155             3000  3308700000000         C       10\n",
       "156             3500  3573800000000         C       10\n",
       "157             4000  3820600000000         C       10\n",
       "158             4500  4052400000000         C       10\n",
       "159             5000  4271600000000         C       10\n",
       "\n",
       "[160 rows x 4 columns]"
      ]
     },
     "execution_count": 49,
     "metadata": {},
     "output_type": "execute_result"
    }
   ],
   "source": [
    "# filtered data\n",
    "df_clean = df[[\"Temperature [K]\", \"Rate\", \"Formalism\", \"Gap Size\"]].dropna()\n",
    "df_clean "
   ]
  },
  {
   "cell_type": "code",
   "execution_count": 50,
   "metadata": {},
   "outputs": [
    {
     "data": {
      "text/html": [
       "<div>\n",
       "<style scoped>\n",
       "    .dataframe tbody tr th:only-of-type {\n",
       "        vertical-align: middle;\n",
       "    }\n",
       "\n",
       "    .dataframe tbody tr th {\n",
       "        vertical-align: top;\n",
       "    }\n",
       "\n",
       "    .dataframe thead th {\n",
       "        text-align: right;\n",
       "    }\n",
       "</style>\n",
       "<table border=\"1\" class=\"dataframe\">\n",
       "  <thead>\n",
       "    <tr style=\"text-align: right;\">\n",
       "      <th></th>\n",
       "      <th>Temperature [K]</th>\n",
       "      <th>Rate</th>\n",
       "      <th>Formalism</th>\n",
       "      <th>Gap Size</th>\n",
       "      <th>Rate [1/s]</th>\n",
       "    </tr>\n",
       "  </thead>\n",
       "  <tbody>\n",
       "    <tr>\n",
       "      <th>0</th>\n",
       "      <td>100</td>\n",
       "      <td>20800000</td>\n",
       "      <td>Q</td>\n",
       "      <td>2</td>\n",
       "      <td>7.318063</td>\n",
       "    </tr>\n",
       "    <tr>\n",
       "      <th>1</th>\n",
       "      <td>200</td>\n",
       "      <td>23490000</td>\n",
       "      <td>Q</td>\n",
       "      <td>2</td>\n",
       "      <td>7.370883</td>\n",
       "    </tr>\n",
       "    <tr>\n",
       "      <th>2</th>\n",
       "      <td>400</td>\n",
       "      <td>39990000</td>\n",
       "      <td>Q</td>\n",
       "      <td>2</td>\n",
       "      <td>7.601951</td>\n",
       "    </tr>\n",
       "    <tr>\n",
       "      <th>3</th>\n",
       "      <td>600</td>\n",
       "      <td>64730000</td>\n",
       "      <td>Q</td>\n",
       "      <td>2</td>\n",
       "      <td>7.811106</td>\n",
       "    </tr>\n",
       "    <tr>\n",
       "      <th>4</th>\n",
       "      <td>750</td>\n",
       "      <td>89110000</td>\n",
       "      <td>Q</td>\n",
       "      <td>2</td>\n",
       "      <td>7.949926</td>\n",
       "    </tr>\n",
       "    <tr>\n",
       "      <th>...</th>\n",
       "      <td>...</td>\n",
       "      <td>...</td>\n",
       "      <td>...</td>\n",
       "      <td>...</td>\n",
       "      <td>...</td>\n",
       "    </tr>\n",
       "    <tr>\n",
       "      <th>155</th>\n",
       "      <td>3000</td>\n",
       "      <td>3308700000000</td>\n",
       "      <td>C</td>\n",
       "      <td>10</td>\n",
       "      <td>12.519657</td>\n",
       "    </tr>\n",
       "    <tr>\n",
       "      <th>156</th>\n",
       "      <td>3500</td>\n",
       "      <td>3573800000000</td>\n",
       "      <td>C</td>\n",
       "      <td>10</td>\n",
       "      <td>12.553130</td>\n",
       "    </tr>\n",
       "    <tr>\n",
       "      <th>157</th>\n",
       "      <td>4000</td>\n",
       "      <td>3820600000000</td>\n",
       "      <td>C</td>\n",
       "      <td>10</td>\n",
       "      <td>12.582132</td>\n",
       "    </tr>\n",
       "    <tr>\n",
       "      <th>158</th>\n",
       "      <td>4500</td>\n",
       "      <td>4052400000000</td>\n",
       "      <td>C</td>\n",
       "      <td>10</td>\n",
       "      <td>12.607712</td>\n",
       "    </tr>\n",
       "    <tr>\n",
       "      <th>159</th>\n",
       "      <td>5000</td>\n",
       "      <td>4271600000000</td>\n",
       "      <td>C</td>\n",
       "      <td>10</td>\n",
       "      <td>12.630591</td>\n",
       "    </tr>\n",
       "  </tbody>\n",
       "</table>\n",
       "<p>160 rows × 5 columns</p>\n",
       "</div>"
      ],
      "text/plain": [
       "     Temperature [K]           Rate Formalism Gap Size  Rate [1/s]\n",
       "0                100       20800000         Q        2    7.318063\n",
       "1                200       23490000         Q        2    7.370883\n",
       "2                400       39990000         Q        2    7.601951\n",
       "3                600       64730000         Q        2    7.811106\n",
       "4                750       89110000         Q        2    7.949926\n",
       "..               ...            ...       ...      ...         ...\n",
       "155             3000  3308700000000         C       10   12.519657\n",
       "156             3500  3573800000000         C       10   12.553130\n",
       "157             4000  3820600000000         C       10   12.582132\n",
       "158             4500  4052400000000         C       10   12.607712\n",
       "159             5000  4271600000000         C       10   12.630591\n",
       "\n",
       "[160 rows x 5 columns]"
      ]
     },
     "execution_count": 50,
     "metadata": {},
     "output_type": "execute_result"
    }
   ],
   "source": [
    "# take log base\n",
    "df_clean['Rate [1/s]'] = np.log10(df_clean['Rate'])\n",
    "df_clean"
   ]
  },
  {
   "cell_type": "code",
   "execution_count": 51,
   "metadata": {},
   "outputs": [
    {
     "data": {
      "text/html": [
       "<div>\n",
       "<style scoped>\n",
       "    .dataframe tbody tr th:only-of-type {\n",
       "        vertical-align: middle;\n",
       "    }\n",
       "\n",
       "    .dataframe tbody tr th {\n",
       "        vertical-align: top;\n",
       "    }\n",
       "\n",
       "    .dataframe thead th {\n",
       "        text-align: right;\n",
       "    }\n",
       "</style>\n",
       "<table border=\"1\" class=\"dataframe\">\n",
       "  <thead>\n",
       "    <tr style=\"text-align: right;\">\n",
       "      <th></th>\n",
       "      <th>Temperature [K]</th>\n",
       "      <th>Rate [1/s]</th>\n",
       "      <th>Formalism</th>\n",
       "      <th>Gap Size</th>\n",
       "    </tr>\n",
       "  </thead>\n",
       "  <tbody>\n",
       "    <tr>\n",
       "      <th>0</th>\n",
       "      <td>100</td>\n",
       "      <td>7.318063</td>\n",
       "      <td>Q</td>\n",
       "      <td>2</td>\n",
       "    </tr>\n",
       "    <tr>\n",
       "      <th>1</th>\n",
       "      <td>200</td>\n",
       "      <td>7.370883</td>\n",
       "      <td>Q</td>\n",
       "      <td>2</td>\n",
       "    </tr>\n",
       "    <tr>\n",
       "      <th>2</th>\n",
       "      <td>400</td>\n",
       "      <td>7.601951</td>\n",
       "      <td>Q</td>\n",
       "      <td>2</td>\n",
       "    </tr>\n",
       "    <tr>\n",
       "      <th>3</th>\n",
       "      <td>600</td>\n",
       "      <td>7.811106</td>\n",
       "      <td>Q</td>\n",
       "      <td>2</td>\n",
       "    </tr>\n",
       "    <tr>\n",
       "      <th>4</th>\n",
       "      <td>750</td>\n",
       "      <td>7.949926</td>\n",
       "      <td>Q</td>\n",
       "      <td>2</td>\n",
       "    </tr>\n",
       "    <tr>\n",
       "      <th>...</th>\n",
       "      <td>...</td>\n",
       "      <td>...</td>\n",
       "      <td>...</td>\n",
       "      <td>...</td>\n",
       "    </tr>\n",
       "    <tr>\n",
       "      <th>155</th>\n",
       "      <td>3000</td>\n",
       "      <td>12.519657</td>\n",
       "      <td>C</td>\n",
       "      <td>10</td>\n",
       "    </tr>\n",
       "    <tr>\n",
       "      <th>156</th>\n",
       "      <td>3500</td>\n",
       "      <td>12.553130</td>\n",
       "      <td>C</td>\n",
       "      <td>10</td>\n",
       "    </tr>\n",
       "    <tr>\n",
       "      <th>157</th>\n",
       "      <td>4000</td>\n",
       "      <td>12.582132</td>\n",
       "      <td>C</td>\n",
       "      <td>10</td>\n",
       "    </tr>\n",
       "    <tr>\n",
       "      <th>158</th>\n",
       "      <td>4500</td>\n",
       "      <td>12.607712</td>\n",
       "      <td>C</td>\n",
       "      <td>10</td>\n",
       "    </tr>\n",
       "    <tr>\n",
       "      <th>159</th>\n",
       "      <td>5000</td>\n",
       "      <td>12.630591</td>\n",
       "      <td>C</td>\n",
       "      <td>10</td>\n",
       "    </tr>\n",
       "  </tbody>\n",
       "</table>\n",
       "<p>160 rows × 4 columns</p>\n",
       "</div>"
      ],
      "text/plain": [
       "     Temperature [K]  Rate [1/s] Formalism Gap Size\n",
       "0                100    7.318063         Q        2\n",
       "1                200    7.370883         Q        2\n",
       "2                400    7.601951         Q        2\n",
       "3                600    7.811106         Q        2\n",
       "4                750    7.949926         Q        2\n",
       "..               ...         ...       ...      ...\n",
       "155             3000   12.519657         C       10\n",
       "156             3500   12.553130         C       10\n",
       "157             4000   12.582132         C       10\n",
       "158             4500   12.607712         C       10\n",
       "159             5000   12.630591         C       10\n",
       "\n",
       "[160 rows x 4 columns]"
      ]
     },
     "execution_count": 51,
     "metadata": {},
     "output_type": "execute_result"
    }
   ],
   "source": [
    "df_clean = df_clean[[\"Temperature [K]\", \"Rate [1/s]\", \"Formalism\", \"Gap Size\"]].dropna()\n",
    "df_clean"
   ]
  },
  {
   "cell_type": "code",
   "execution_count": 52,
   "metadata": {},
   "outputs": [
    {
     "data": {
      "application/vnd.plotly.v1+json": {
       "config": {
        "plotlyServerURL": "https://plot.ly"
       },
       "data": [
        {
         "hovertemplate": "Gap Size=2<br>Formalism=Q<br>Temperature [K]=%{x}<br>Rate [1/s]=%{y}<extra></extra>",
         "legendgroup": "2, Q",
         "marker": {
          "color": "#1F77B4",
          "line": {
           "color": "Black",
           "width": 1
          },
          "size": 7,
          "symbol": "diamond"
         },
         "mode": "markers",
         "name": "",
         "orientation": "v",
         "showlegend": false,
         "type": "scatter",
         "x": [
          100,
          200,
          400,
          600,
          750,
          1000,
          1250,
          1500,
          1750,
          2000,
          2500,
          3000,
          3500,
          4000,
          4500,
          5000
         ],
         "xaxis": "x",
         "y": [
          7.318063334962762,
          7.370883016777606,
          7.601951404133522,
          7.8111056070179306,
          7.949926443667912,
          8.144574207609617,
          8.306639441024261,
          8.443732241401596,
          8.563006187061793,
          8.670060217473134,
          8.852113860849762,
          9.006893707947901,
          9.138933940256925,
          9.257438566859813,
          9.360214613295353,
          9.451479405124863
         ],
         "yaxis": "y"
        },
        {
         "hovertemplate": "Gap Size=2<br>Formalism=C<br>Temperature [K]=%{x}<br>Rate [1/s]=%{y}<extra></extra>",
         "legendgroup": "2, C",
         "marker": {
          "color": "#1F77B4",
          "line": {
           "color": "Black",
           "width": 1
          },
          "size": 7,
          "symbol": "cross"
         },
         "mode": "markers",
         "name": "",
         "orientation": "v",
         "showlegend": false,
         "type": "scatter",
         "x": [
          100,
          200,
          400,
          600,
          750,
          1000,
          1250,
          1500,
          1750,
          2000,
          2500,
          3000,
          3500,
          4000,
          4500,
          5000
         ],
         "xaxis": "x",
         "y": [
          11.082138831393447,
          11.232640402026943,
          11.383168827057428,
          11.471203669470253,
          11.519657391441806,
          11.582131571348135,
          11.63059057783929,
          11.670180889639273,
          11.703652423412509,
          11.732643005489647,
          11.781101646554223,
          11.820693949973386,
          11.854166316206475,
          11.883161567012115,
          11.908736943829087,
          11.93161548996287
         ],
         "yaxis": "y"
        },
        {
         "hovertemplate": "Gap Size=4<br>Formalism=Q<br>Temperature [K]=%{x}<br>Rate [1/s]=%{y}<extra></extra>",
         "legendgroup": "4, Q",
         "marker": {
          "color": "#FF7F0E",
          "line": {
           "color": "Black",
           "width": 1
          },
          "size": 7,
          "symbol": "diamond"
         },
         "mode": "markers",
         "name": "",
         "orientation": "v",
         "showlegend": false,
         "type": "scatter",
         "x": [
          100,
          200,
          400,
          600,
          750,
          1000,
          1250,
          1500,
          1750,
          2000,
          2500,
          3000,
          3500,
          4000,
          4500,
          5000
         ],
         "xaxis": "x",
         "y": [
          8.498999363580154,
          8.55291145021651,
          8.791129000727286,
          9.008174184006426,
          9.152899596393748,
          9.356981400993131,
          9.526985068559995,
          9.673113104238233,
          9.798926738577201,
          9.910891088644528,
          10.10277661488344,
          10.258158193340794,
          10.391464411839102,
          10.501059262217751,
          10.60809794632528,
          10.71717102683231
         ],
         "yaxis": "y"
        },
        {
         "hovertemplate": "Gap Size=4<br>Formalism=C<br>Temperature [K]=%{x}<br>Rate [1/s]=%{y}<extra></extra>",
         "legendgroup": "4, C",
         "marker": {
          "color": "#FF7F0E",
          "line": {
           "color": "Black",
           "width": 1
          },
          "size": 7,
          "symbol": "cross"
         },
         "mode": "markers",
         "name": "",
         "orientation": "v",
         "showlegend": false,
         "type": "scatter",
         "x": [
          100,
          200,
          400,
          600,
          750,
          1000,
          1250,
          1500,
          1750,
          2000,
          2500,
          3000,
          3500,
          4000,
          4500,
          5000
         ],
         "xaxis": "x",
         "y": [
          11.383168827057428,
          11.533670397690925,
          11.68418983623376,
          11.772233665134234,
          11.820693949973386,
          11.883161567012115,
          11.93161548996287,
          11.971206244686044,
          12.004665233247877,
          12.033664963203178,
          12.082138831393447,
          12.121723945637367,
          12.155184159694008,
          12.184180195347258,
          12.209756222258859,
          12.232640402026943
         ],
         "yaxis": "y"
        },
        {
         "hovertemplate": "Gap Size=6<br>Formalism=Q<br>Temperature [K]=%{x}<br>Rate [1/s]=%{y}<extra></extra>",
         "legendgroup": "6, Q",
         "marker": {
          "color": "#2CA02C",
          "line": {
           "color": "Black",
           "width": 1
          },
          "size": 7,
          "symbol": "diamond"
         },
         "mode": "markers",
         "name": "",
         "orientation": "v",
         "showlegend": false,
         "type": "scatter",
         "x": [
          100,
          200,
          400,
          600,
          750,
          1000,
          1250,
          1500,
          1750,
          2000,
          2500,
          3000,
          3500,
          4000,
          4500,
          5000
         ],
         "xaxis": "x",
         "y": [
          9.19728055812562,
          9.251151343175355,
          9.499687082618404,
          9.727215820908492,
          9.876044550246094,
          10.082426300860773,
          10.249687427805302,
          10.393575203269588,
          10.514946005308005,
          10.612147838326488,
          10.632356046239073,
          10.643847310299714,
          10.655522596253418,
          10.65427282709771,
          10.641176546613114,
          10.975017997632882
         ],
         "yaxis": "y"
        },
        {
         "hovertemplate": "Gap Size=6<br>Formalism=C<br>Temperature [K]=%{x}<br>Rate [1/s]=%{y}<extra></extra>",
         "legendgroup": "6, C",
         "marker": {
          "color": "#2CA02C",
          "line": {
           "color": "Black",
           "width": 1
          },
          "size": 7,
          "symbol": "cross"
         },
         "mode": "markers",
         "name": "",
         "orientation": "v",
         "showlegend": false,
         "type": "scatter",
         "x": [
          100,
          200,
          400,
          600,
          750,
          1000,
          1250,
          1500,
          1750,
          2000,
          2500,
          3000,
          3500,
          4000,
          4500,
          5000
         ],
         "xaxis": "x",
         "y": [
          11.559248104088253,
          11.70977012938006,
          11.860284090805985,
          11.948329815857551,
          11.996783021417553,
          12.05926040412173,
          12.107718610520262,
          12.147305238076195,
          12.180785134973439,
          12.209756222258859,
          12.258230090449128,
          12.297804266525286,
          12.33128554558701,
          12.360290399785711,
          12.385856412361415,
          12.408731661082625
         ],
         "yaxis": "y"
        },
        {
         "hovertemplate": "Gap Size=8<br>Formalism=Q<br>Temperature [K]=%{x}<br>Rate [1/s]=%{y}<extra></extra>",
         "legendgroup": "8, Q",
         "marker": {
          "color": "#D62728",
          "line": {
           "color": "Black",
           "width": 1
          },
          "size": 7,
          "symbol": "diamond"
         },
         "mode": "markers",
         "name": "",
         "orientation": "v",
         "showlegend": false,
         "type": "scatter",
         "x": [
          100,
          200,
          400,
          600,
          750,
          1000,
          1250,
          1500,
          1750,
          2000,
          2500,
          3000,
          3500,
          4000,
          4500,
          5000
         ],
         "xaxis": "x",
         "y": [
          9.698187569866123,
          9.754654069255432,
          10.00774777800074,
          10.232233521114734,
          10.37529773821734,
          10.573219827114421,
          10.782687568234966,
          10.920123326290724,
          11.028977705208778,
          11.127104798364808,
          11.259593878885948,
          11.365113431627577,
          11.446537167073643,
          11.512016969496127,
          11.565611724902059,
          11.610127613075996
         ],
         "yaxis": "y"
        },
        {
         "hovertemplate": "Gap Size=8<br>Formalism=C<br>Temperature [K]=%{x}<br>Rate [1/s]=%{y}<extra></extra>",
         "legendgroup": "8, C",
         "marker": {
          "color": "#D62728",
          "line": {
           "color": "Black",
           "width": 1
          },
          "size": 7,
          "symbol": "cross"
         },
         "mode": "markers",
         "name": "",
         "orientation": "v",
         "showlegend": false,
         "type": "scatter",
         "x": [
          100,
          200,
          400,
          600,
          750,
          1000,
          1250,
          1500,
          1750,
          2000,
          2500,
          3000,
          3500,
          4000,
          4500,
          5000
         ],
         "xaxis": "x",
         "y": [
          11.68418983623376,
          11.834706747845493,
          11.98521983189774,
          12.073278335635834,
          12.121723945637367,
          12.184180195347258,
          12.232640402026943,
          12.272236240350026,
          12.305716711091364,
          12.334715053464357,
          12.383168827057428,
          12.422753941301348,
          12.45622934552542,
          12.4852244001258,
          12.510799614424279,
          12.533670397690925
         ],
         "yaxis": "y"
        },
        {
         "hovertemplate": "Gap Size=10<br>Formalism=Q<br>Temperature [K]=%{x}<br>Rate [1/s]=%{y}<extra></extra>",
         "legendgroup": "10, Q",
         "marker": {
          "color": "#9467BD",
          "line": {
           "color": "Black",
           "width": 1
          },
          "size": 7,
          "symbol": "diamond"
         },
         "mode": "markers",
         "name": "",
         "orientation": "v",
         "showlegend": false,
         "type": "scatter",
         "x": [
          100,
          200,
          400,
          600,
          750,
          1000,
          1250,
          1500,
          1750,
          2000,
          2500,
          3000,
          3500,
          4000,
          4500,
          5000
         ],
         "xaxis": "x",
         "y": [
          10.092018470752796,
          10.145507171409662,
          10.394451680826217,
          10.609274172404588,
          10.730701544281846,
          10.994185128202318,
          11.14921911265538,
          11.269512944217917,
          11.365675140455918,
          11.444513206334044,
          11.481442628502306,
          11.598243191653623,
          11.658964842664435,
          11.707485011967474,
          11.747334109615904,
          11.78089310868708
         ],
         "yaxis": "y"
        },
        {
         "hovertemplate": "Gap Size=10<br>Formalism=C<br>Temperature [K]=%{x}<br>Rate [1/s]=%{y}<extra></extra>",
         "legendgroup": "10, C",
         "marker": {
          "color": "#9467BD",
          "line": {
           "color": "Black",
           "width": 1
          },
          "size": 7,
          "symbol": "cross"
         },
         "mode": "markers",
         "name": "",
         "orientation": "v",
         "showlegend": false,
         "type": "scatter",
         "x": [
          100,
          200,
          400,
          600,
          750,
          1000,
          1250,
          1500,
          1750,
          2000,
          2500,
          3000,
          3500,
          4000,
          4500,
          5000
         ],
         "xaxis": "x",
         "y": [
          11.781101646554223,
          11.93161548996287,
          12.082138831393447,
          12.170173673806271,
          12.218640521413848,
          12.281101575684154,
          12.32956058217531,
          12.369141612691285,
          12.402622427748527,
          12.431621047627354,
          12.480064461595987,
          12.519657391441806,
          12.553130244496774,
          12.582131571348135,
          12.607712306683036,
          12.63059057783929
         ],
         "yaxis": "y"
        },
        {
         "marker": {
          "color": "#1F77B4",
          "symbol": "circle"
         },
         "mode": "markers",
         "name": "2pt Gap",
         "type": "scatter",
         "y": [
          null
         ]
        },
        {
         "marker": {
          "color": "#FF7F0E",
          "symbol": "circle"
         },
         "mode": "markers",
         "name": "4pt Gap",
         "type": "scatter",
         "y": [
          null
         ]
        },
        {
         "marker": {
          "color": "#2CA02C",
          "symbol": "circle"
         },
         "mode": "markers",
         "name": "6pt Gap",
         "type": "scatter",
         "y": [
          null
         ]
        },
        {
         "marker": {
          "color": "#D62728",
          "symbol": "circle"
         },
         "mode": "markers",
         "name": "8pt Gap",
         "type": "scatter",
         "y": [
          null
         ]
        },
        {
         "marker": {
          "color": "#9467BD",
          "symbol": "circle"
         },
         "mode": "markers",
         "name": "10pt Gap",
         "type": "scatter",
         "y": [
          null
         ]
        },
        {
         "marker": {
          "color": "black",
          "symbol": "diamond-open"
         },
         "mode": "markers",
         "name": "Quantum",
         "type": "scatter",
         "y": [
          null
         ]
        },
        {
         "marker": {
          "color": "black",
          "symbol": "cross-open"
         },
         "mode": "markers",
         "name": "Classical",
         "type": "scatter",
         "y": [
          null
         ]
        }
       ],
       "layout": {
        "legend": {
         "title": {
          "text": ""
         },
         "tracegroupgap": 0
        },
        "margin": {
         "t": 60
        },
        "template": {
         "data": {
          "bar": [
           {
            "error_x": {
             "color": "#2a3f5f"
            },
            "error_y": {
             "color": "#2a3f5f"
            },
            "marker": {
             "line": {
              "color": "#E5ECF6",
              "width": 0.5
             },
             "pattern": {
              "fillmode": "overlay",
              "size": 10,
              "solidity": 0.2
             }
            },
            "type": "bar"
           }
          ],
          "barpolar": [
           {
            "marker": {
             "line": {
              "color": "#E5ECF6",
              "width": 0.5
             },
             "pattern": {
              "fillmode": "overlay",
              "size": 10,
              "solidity": 0.2
             }
            },
            "type": "barpolar"
           }
          ],
          "carpet": [
           {
            "aaxis": {
             "endlinecolor": "#2a3f5f",
             "gridcolor": "white",
             "linecolor": "white",
             "minorgridcolor": "white",
             "startlinecolor": "#2a3f5f"
            },
            "baxis": {
             "endlinecolor": "#2a3f5f",
             "gridcolor": "white",
             "linecolor": "white",
             "minorgridcolor": "white",
             "startlinecolor": "#2a3f5f"
            },
            "type": "carpet"
           }
          ],
          "choropleth": [
           {
            "colorbar": {
             "outlinewidth": 0,
             "ticks": ""
            },
            "type": "choropleth"
           }
          ],
          "contour": [
           {
            "colorbar": {
             "outlinewidth": 0,
             "ticks": ""
            },
            "colorscale": [
             [
              0,
              "#0d0887"
             ],
             [
              0.1111111111111111,
              "#46039f"
             ],
             [
              0.2222222222222222,
              "#7201a8"
             ],
             [
              0.3333333333333333,
              "#9c179e"
             ],
             [
              0.4444444444444444,
              "#bd3786"
             ],
             [
              0.5555555555555556,
              "#d8576b"
             ],
             [
              0.6666666666666666,
              "#ed7953"
             ],
             [
              0.7777777777777778,
              "#fb9f3a"
             ],
             [
              0.8888888888888888,
              "#fdca26"
             ],
             [
              1,
              "#f0f921"
             ]
            ],
            "type": "contour"
           }
          ],
          "contourcarpet": [
           {
            "colorbar": {
             "outlinewidth": 0,
             "ticks": ""
            },
            "type": "contourcarpet"
           }
          ],
          "heatmap": [
           {
            "colorbar": {
             "outlinewidth": 0,
             "ticks": ""
            },
            "colorscale": [
             [
              0,
              "#0d0887"
             ],
             [
              0.1111111111111111,
              "#46039f"
             ],
             [
              0.2222222222222222,
              "#7201a8"
             ],
             [
              0.3333333333333333,
              "#9c179e"
             ],
             [
              0.4444444444444444,
              "#bd3786"
             ],
             [
              0.5555555555555556,
              "#d8576b"
             ],
             [
              0.6666666666666666,
              "#ed7953"
             ],
             [
              0.7777777777777778,
              "#fb9f3a"
             ],
             [
              0.8888888888888888,
              "#fdca26"
             ],
             [
              1,
              "#f0f921"
             ]
            ],
            "type": "heatmap"
           }
          ],
          "heatmapgl": [
           {
            "colorbar": {
             "outlinewidth": 0,
             "ticks": ""
            },
            "colorscale": [
             [
              0,
              "#0d0887"
             ],
             [
              0.1111111111111111,
              "#46039f"
             ],
             [
              0.2222222222222222,
              "#7201a8"
             ],
             [
              0.3333333333333333,
              "#9c179e"
             ],
             [
              0.4444444444444444,
              "#bd3786"
             ],
             [
              0.5555555555555556,
              "#d8576b"
             ],
             [
              0.6666666666666666,
              "#ed7953"
             ],
             [
              0.7777777777777778,
              "#fb9f3a"
             ],
             [
              0.8888888888888888,
              "#fdca26"
             ],
             [
              1,
              "#f0f921"
             ]
            ],
            "type": "heatmapgl"
           }
          ],
          "histogram": [
           {
            "marker": {
             "pattern": {
              "fillmode": "overlay",
              "size": 10,
              "solidity": 0.2
             }
            },
            "type": "histogram"
           }
          ],
          "histogram2d": [
           {
            "colorbar": {
             "outlinewidth": 0,
             "ticks": ""
            },
            "colorscale": [
             [
              0,
              "#0d0887"
             ],
             [
              0.1111111111111111,
              "#46039f"
             ],
             [
              0.2222222222222222,
              "#7201a8"
             ],
             [
              0.3333333333333333,
              "#9c179e"
             ],
             [
              0.4444444444444444,
              "#bd3786"
             ],
             [
              0.5555555555555556,
              "#d8576b"
             ],
             [
              0.6666666666666666,
              "#ed7953"
             ],
             [
              0.7777777777777778,
              "#fb9f3a"
             ],
             [
              0.8888888888888888,
              "#fdca26"
             ],
             [
              1,
              "#f0f921"
             ]
            ],
            "type": "histogram2d"
           }
          ],
          "histogram2dcontour": [
           {
            "colorbar": {
             "outlinewidth": 0,
             "ticks": ""
            },
            "colorscale": [
             [
              0,
              "#0d0887"
             ],
             [
              0.1111111111111111,
              "#46039f"
             ],
             [
              0.2222222222222222,
              "#7201a8"
             ],
             [
              0.3333333333333333,
              "#9c179e"
             ],
             [
              0.4444444444444444,
              "#bd3786"
             ],
             [
              0.5555555555555556,
              "#d8576b"
             ],
             [
              0.6666666666666666,
              "#ed7953"
             ],
             [
              0.7777777777777778,
              "#fb9f3a"
             ],
             [
              0.8888888888888888,
              "#fdca26"
             ],
             [
              1,
              "#f0f921"
             ]
            ],
            "type": "histogram2dcontour"
           }
          ],
          "mesh3d": [
           {
            "colorbar": {
             "outlinewidth": 0,
             "ticks": ""
            },
            "type": "mesh3d"
           }
          ],
          "parcoords": [
           {
            "line": {
             "colorbar": {
              "outlinewidth": 0,
              "ticks": ""
             }
            },
            "type": "parcoords"
           }
          ],
          "pie": [
           {
            "automargin": true,
            "type": "pie"
           }
          ],
          "scatter": [
           {
            "fillpattern": {
             "fillmode": "overlay",
             "size": 10,
             "solidity": 0.2
            },
            "type": "scatter"
           }
          ],
          "scatter3d": [
           {
            "line": {
             "colorbar": {
              "outlinewidth": 0,
              "ticks": ""
             }
            },
            "marker": {
             "colorbar": {
              "outlinewidth": 0,
              "ticks": ""
             }
            },
            "type": "scatter3d"
           }
          ],
          "scattercarpet": [
           {
            "marker": {
             "colorbar": {
              "outlinewidth": 0,
              "ticks": ""
             }
            },
            "type": "scattercarpet"
           }
          ],
          "scattergeo": [
           {
            "marker": {
             "colorbar": {
              "outlinewidth": 0,
              "ticks": ""
             }
            },
            "type": "scattergeo"
           }
          ],
          "scattergl": [
           {
            "marker": {
             "colorbar": {
              "outlinewidth": 0,
              "ticks": ""
             }
            },
            "type": "scattergl"
           }
          ],
          "scattermapbox": [
           {
            "marker": {
             "colorbar": {
              "outlinewidth": 0,
              "ticks": ""
             }
            },
            "type": "scattermapbox"
           }
          ],
          "scatterpolar": [
           {
            "marker": {
             "colorbar": {
              "outlinewidth": 0,
              "ticks": ""
             }
            },
            "type": "scatterpolar"
           }
          ],
          "scatterpolargl": [
           {
            "marker": {
             "colorbar": {
              "outlinewidth": 0,
              "ticks": ""
             }
            },
            "type": "scatterpolargl"
           }
          ],
          "scatterternary": [
           {
            "marker": {
             "colorbar": {
              "outlinewidth": 0,
              "ticks": ""
             }
            },
            "type": "scatterternary"
           }
          ],
          "surface": [
           {
            "colorbar": {
             "outlinewidth": 0,
             "ticks": ""
            },
            "colorscale": [
             [
              0,
              "#0d0887"
             ],
             [
              0.1111111111111111,
              "#46039f"
             ],
             [
              0.2222222222222222,
              "#7201a8"
             ],
             [
              0.3333333333333333,
              "#9c179e"
             ],
             [
              0.4444444444444444,
              "#bd3786"
             ],
             [
              0.5555555555555556,
              "#d8576b"
             ],
             [
              0.6666666666666666,
              "#ed7953"
             ],
             [
              0.7777777777777778,
              "#fb9f3a"
             ],
             [
              0.8888888888888888,
              "#fdca26"
             ],
             [
              1,
              "#f0f921"
             ]
            ],
            "type": "surface"
           }
          ],
          "table": [
           {
            "cells": {
             "fill": {
              "color": "#EBF0F8"
             },
             "line": {
              "color": "white"
             }
            },
            "header": {
             "fill": {
              "color": "#C8D4E3"
             },
             "line": {
              "color": "white"
             }
            },
            "type": "table"
           }
          ]
         },
         "layout": {
          "annotationdefaults": {
           "arrowcolor": "#2a3f5f",
           "arrowhead": 0,
           "arrowwidth": 1
          },
          "autotypenumbers": "strict",
          "coloraxis": {
           "colorbar": {
            "outlinewidth": 0,
            "ticks": ""
           }
          },
          "colorscale": {
           "diverging": [
            [
             0,
             "#8e0152"
            ],
            [
             0.1,
             "#c51b7d"
            ],
            [
             0.2,
             "#de77ae"
            ],
            [
             0.3,
             "#f1b6da"
            ],
            [
             0.4,
             "#fde0ef"
            ],
            [
             0.5,
             "#f7f7f7"
            ],
            [
             0.6,
             "#e6f5d0"
            ],
            [
             0.7,
             "#b8e186"
            ],
            [
             0.8,
             "#7fbc41"
            ],
            [
             0.9,
             "#4d9221"
            ],
            [
             1,
             "#276419"
            ]
           ],
           "sequential": [
            [
             0,
             "#0d0887"
            ],
            [
             0.1111111111111111,
             "#46039f"
            ],
            [
             0.2222222222222222,
             "#7201a8"
            ],
            [
             0.3333333333333333,
             "#9c179e"
            ],
            [
             0.4444444444444444,
             "#bd3786"
            ],
            [
             0.5555555555555556,
             "#d8576b"
            ],
            [
             0.6666666666666666,
             "#ed7953"
            ],
            [
             0.7777777777777778,
             "#fb9f3a"
            ],
            [
             0.8888888888888888,
             "#fdca26"
            ],
            [
             1,
             "#f0f921"
            ]
           ],
           "sequentialminus": [
            [
             0,
             "#0d0887"
            ],
            [
             0.1111111111111111,
             "#46039f"
            ],
            [
             0.2222222222222222,
             "#7201a8"
            ],
            [
             0.3333333333333333,
             "#9c179e"
            ],
            [
             0.4444444444444444,
             "#bd3786"
            ],
            [
             0.5555555555555556,
             "#d8576b"
            ],
            [
             0.6666666666666666,
             "#ed7953"
            ],
            [
             0.7777777777777778,
             "#fb9f3a"
            ],
            [
             0.8888888888888888,
             "#fdca26"
            ],
            [
             1,
             "#f0f921"
            ]
           ]
          },
          "colorway": [
           "#636efa",
           "#EF553B",
           "#00cc96",
           "#ab63fa",
           "#FFA15A",
           "#19d3f3",
           "#FF6692",
           "#B6E880",
           "#FF97FF",
           "#FECB52"
          ],
          "font": {
           "color": "#2a3f5f"
          },
          "geo": {
           "bgcolor": "white",
           "lakecolor": "white",
           "landcolor": "#E5ECF6",
           "showlakes": true,
           "showland": true,
           "subunitcolor": "white"
          },
          "hoverlabel": {
           "align": "left"
          },
          "hovermode": "closest",
          "mapbox": {
           "style": "light"
          },
          "paper_bgcolor": "white",
          "plot_bgcolor": "#E5ECF6",
          "polar": {
           "angularaxis": {
            "gridcolor": "white",
            "linecolor": "white",
            "ticks": ""
           },
           "bgcolor": "#E5ECF6",
           "radialaxis": {
            "gridcolor": "white",
            "linecolor": "white",
            "ticks": ""
           }
          },
          "scene": {
           "xaxis": {
            "backgroundcolor": "#E5ECF6",
            "gridcolor": "white",
            "gridwidth": 2,
            "linecolor": "white",
            "showbackground": true,
            "ticks": "",
            "zerolinecolor": "white"
           },
           "yaxis": {
            "backgroundcolor": "#E5ECF6",
            "gridcolor": "white",
            "gridwidth": 2,
            "linecolor": "white",
            "showbackground": true,
            "ticks": "",
            "zerolinecolor": "white"
           },
           "zaxis": {
            "backgroundcolor": "#E5ECF6",
            "gridcolor": "white",
            "gridwidth": 2,
            "linecolor": "white",
            "showbackground": true,
            "ticks": "",
            "zerolinecolor": "white"
           }
          },
          "shapedefaults": {
           "line": {
            "color": "#2a3f5f"
           }
          },
          "ternary": {
           "aaxis": {
            "gridcolor": "white",
            "linecolor": "white",
            "ticks": ""
           },
           "baxis": {
            "gridcolor": "white",
            "linecolor": "white",
            "ticks": ""
           },
           "bgcolor": "#E5ECF6",
           "caxis": {
            "gridcolor": "white",
            "linecolor": "white",
            "ticks": ""
           }
          },
          "title": {
           "x": 0.05
          },
          "xaxis": {
           "automargin": true,
           "gridcolor": "white",
           "linecolor": "white",
           "ticks": "",
           "title": {
            "standoff": 15
           },
           "zerolinecolor": "white",
           "zerolinewidth": 2
          },
          "yaxis": {
           "automargin": true,
           "gridcolor": "white",
           "linecolor": "white",
           "ticks": "",
           "title": {
            "standoff": 15
           },
           "zerolinecolor": "white",
           "zerolinewidth": 2
          }
         }
        },
        "xaxis": {
         "anchor": "y",
         "domain": [
          0,
          1
         ],
         "title": {
          "text": "Temperature [K]"
         }
        },
        "yaxis": {
         "anchor": "x",
         "domain": [
          0,
          1
         ],
         "title": {
          "text": "log(k)"
         }
        }
       }
      }
     },
     "metadata": {},
     "output_type": "display_data"
    }
   ],
   "source": [
    "import plotly.express as px\n",
    "import numpy as np\n",
    "import pandas as pd\n",
    "import plotly.io as pio\n",
    "import plotly.graph_objects as go\n",
    "import plotly\n",
    "\n",
    "fig = px.scatter(df_clean, y=r\"Rate [1/s]\", x=\"Temperature [K]\", color=\"Gap Size\", symbol=\"Formalism\", symbol_sequence= ['diamond', 'cross'], color_discrete_sequence=px.colors.qualitative.D3)\n",
    "\n",
    "# data set, y-values, x-values, set the parameters to distinguish between gap size and formalisnm, set symbols \n",
    "\n",
    "for i, trace in enumerate(fig.data):\n",
    "    name = trace.name.split(',')\n",
    "    trace['name'] = ''\n",
    "    trace['showlegend']=False\n",
    "\n",
    "fig.update_traces(marker=dict(size=7,line=dict(width=1, color='Black')),selector=dict(mode='markers'))\n",
    "\n",
    "fig.add_trace(go.Scatter(y=[None], mode='markers',\n",
    "                         marker=dict(symbol='circle', color=px.colors.qualitative.D3[0]),\n",
    "                         name='2pt Gap',\n",
    "                         ))\n",
    "\n",
    "fig.add_trace(go.Scatter(y=[None], mode='markers',\n",
    "                         marker=dict(symbol='circle', color=px.colors.qualitative.D3[1]),\n",
    "                         name='4pt Gap',\n",
    "                         ))\n",
    "\n",
    "fig.add_trace(go.Scatter(y=[None], mode='markers',\n",
    "                         marker=dict(symbol='circle', color=px.colors.qualitative.D3[2]),\n",
    "                         name='6pt Gap',\n",
    "                         ))\n",
    "\n",
    "fig.add_trace(go.Scatter(y=[None], mode='markers',\n",
    "                         marker=dict(symbol='circle', color=px.colors.qualitative.D3[3]),\n",
    "                         name='8pt Gap',\n",
    "                         ))\n",
    "\n",
    "fig.add_trace(go.Scatter(y=[None], mode='markers',\n",
    "                         marker=dict(symbol='circle', color=px.colors.qualitative.D3[4]),\n",
    "                         name='10pt Gap',\n",
    "                         ))\n",
    "\n",
    "fig.add_trace(go.Scatter(y=[None], mode='markers',\n",
    "                         marker=dict(symbol='diamond-open', color='black'),\n",
    "                         name='Quantum',\n",
    "                         ))\n",
    "fig.add_trace(go.Scatter(y=[None], mode='markers',\n",
    "                         marker=dict(symbol='cross-open', color='black'),\n",
    "                         name='Classical',\n",
    "                         ))\n",
    "\n",
    "\n",
    "\n",
    "fig.update_layout(legend=dict(title=''),\n",
    "                  xaxis=dict(title=r'Temperature [K]'),\n",
    "                  yaxis=dict(title=r'log(k)'))\n",
    "\n",
    "\n",
    "# pio.write_image(fig, '/PATH/0pt_wall.png',scale=4, width=700, height = 500) # uncomment to save image\n",
    "\n",
    "fig.show() # customize axis label)"
   ]
  },
  {
   "cell_type": "markdown",
   "metadata": {},
   "source": [
    "## Finalized Pieces of Code \n",
    "\n",
    "Don't try to run `2d_slit.py` or `correlation.py` here since they won't complete any time soon."
   ]
  },
  {
   "cell_type": "code",
   "execution_count": null,
   "metadata": {},
   "outputs": [],
   "source": [
    "#/* --------------------------------------------------------------------------------\n",
    "#   Egorov Group\n",
    "#   University of Virginia\n",
    "#   Mohan Shankar\n",
    "#\n",
    "#   2d_slit.py\n",
    "#   \"This file calculates eigenfunctions of particle in a box in the presence of a slit\"\n",
    "#-------------------------------------------------------------------------------- */\n",
    "# DEPENDENCIES\n",
    "import numpy as np\n",
    "import matplotlib.pyplot as plt\n",
    "#-------------------------------------------------------------------------------- */\n",
    "# INPUTS\n",
    "me = 5.485799e-4 # Electron mass in daltons\n",
    "m_au = 1.0 / me\n",
    "\n",
    "lx = 1.0 # Angstroms\n",
    "ly = 8.0 # Angstroms\n",
    "\n",
    "a0 = 0.529177258 # Bohr radius\n",
    "\n",
    "lx_au = lx/a0\n",
    "ly_au = ly/a0 \n",
    "\n",
    "nnx = 60 \n",
    "nny = 480 \n",
    "\n",
    "xmin = 0\n",
    "xmax = lx_au\n",
    "\n",
    "ymin = 0\n",
    "ymax = ly_au\n",
    "\n",
    "dx = (xmax-xmin)/(nnx+1)\n",
    "dy = (ymax-ymin)/(nny+1)\n",
    "\n",
    "pi = np.pi\n",
    "\n",
    "nd = 2 # \n",
    "wall_thickness = 1\n",
    "cd = np.zeros(nd) \n",
    "nn = 10000 \n",
    "\n",
    "gap_size = 4.0\n",
    "#-------------------------------------------------------------------------------- */\n",
    "# FUNCTION DEFINITIONS\n",
    "\n",
    "def kron_sum(A1, A2):\n",
    "    '''\n",
    "    Assumes A1, A2 are nxn, mxm matrices where n can be equal to m\n",
    "    '''\n",
    "    i1 = np.identity(len(A1[0]))\n",
    "    i2 = np.identity(len(A2[0]))\n",
    "    return np.kron(A1,i2) + np.kron(i1, A2)\n",
    "\n",
    "\n",
    "def PIB_one(points, lmax, lmin, mass, hbar=1):  \n",
    "    '''\n",
    "    function to return eigenvalues and eigenvectors of a Hamiltonian matrix \n",
    "    eigvals returned in array where eigvals[0] gives a float corresponding to n = 1; units of Joules since I defined my analytic formula with SI units\n",
    "    eigvecs returned in array of arrays where eigvecs[:, i] (column vectors) gives an array corresponding to n = i at each point in the box defined by grid spacing dx\n",
    "    '''\n",
    "    dn = (lmax-lmin)/(points+1)\n",
    "    dn2 = dn**2  # second derivative\n",
    "    H = np.zeros((points, points)) # initialize \n",
    "    z = -pi**2/3.0  # weight for diagonal\n",
    "    for i in range(points):\n",
    "        for j in range(points):\n",
    "            if i == j:\n",
    "                H[i][j] = z # weight for diagonals of matrix\n",
    "            else:\n",
    "                H[i][j] = (2/(i-j)**2)*((-1)**(i-j+1))  # weights for non-diagonals\n",
    "    H *= (-1/(2*mass*dn2)) # hbar = 1 hence 1/(2 * mass * dn2)\n",
    "    return H\n",
    "#-------------------------------------------------------------------------------- */\n",
    "# CREATE MATRICES \n",
    "h1_x = PIB_one(nnx, xmax, xmin, m_au) # 1-D Hamiltonian from x points\n",
    "h1_y = PIB_one(nny, ymax, ymin, m_au) # 1-D Hamiltonian from y points\n",
    "\n",
    "H = kron_sum(h1_x, h1_y) # 2-D Hamiltonian\n",
    "# STENCIL FOR FLUX ALONG DIVIDING SURFACE\n",
    "for k in range(nd):\n",
    "    zz = 1.0\n",
    "    for j in range(nd):\n",
    "        if j != k:\n",
    "            zz *= ((j+1)**2) / ((j+1)**2 - (k+1)**2)\n",
    "        else:\n",
    "            continue\n",
    "    cd[k] = zz/(2*(k+1))\n",
    "\n",
    "print(\"Matrices created!\")\n",
    "#-------------------------------------------------------------------------------- */\n",
    "# MAKE EFFUSION SLIT\n",
    "i = -1\n",
    "\n",
    "for k in range(nnx):\n",
    "    for j in range(nny):\n",
    "        i = i+1\n",
    "        x = dx * k + xmin\n",
    "        y = dy * j + ymin\n",
    "        if (1.0 / a0) < y < (1.0 / a0 + wall_thickness * dy):\n",
    "            if x <(0.5 * xmax - (gap_size/2.0) * dx) or x >(0.5 * xmax + (gap_size/2.0) * dx):\n",
    "                H[i] = np.zeros(nnx * nny)\n",
    "                H[:, i] = np.zeros(nnx * nny)\n",
    "                H[i, i] = -1\n",
    "print(\"Slit created!\")\n",
    "#-------------------------------------------------------------------------------- */\n",
    "# CALCULATE EIGENVECTORS AND VALUES\n",
    "eigvals, eigvecs = np.linalg.eigh(H) # find eigenvalues and eigenvectors\n",
    "print(\"Eigs found!\")\n",
    "#-------------------------------------------------------------------------------- */\n",
    "# CLEANUP OF DATA\n",
    "psi = np.transpose(eigvecs) # vectors returned in column form so take transpose for easier indexing\n",
    "\n",
    "psi = psi[np.argsort(eigvals)]\n",
    "energies = eigvals[np.argsort(eigvals).real]\n",
    "\n",
    "cut = np.where(energies > 0)\n",
    "print(cut)\n",
    "energies = energies[cut]\n",
    "psi = psi[cut]\n",
    "\n",
    "for i in range(len(psi)):\n",
    "    normalization = np.sqrt(np.sum(psi[i]**2 * dy * dx))\n",
    "    psi[i] = psi[i]/normalization\n",
    "\n",
    "# np.savez(\"eigs_file\", psi = psi, eigvals = eigvals)\n",
    "print(\"Eigs saved!\")\n",
    "#-------------------------------------------------------------------------------- */\n",
    "# FIRST DERIVATIVE OVER DIVIDING SURFACE\n",
    "\n",
    "dpsi = np.zeros((nn, nnx))\n",
    "\n",
    "y = (1/a0) + 1.0 * dy\n",
    "i0 = int((y-ymin)/dy)\n",
    "\n",
    "for j in range(nn):\n",
    "    for i2 in range(nnx):\n",
    "        ix = nny * i2 + i0\n",
    "        zz = 0.0\n",
    "        for k in range(nd):\n",
    "            kk = k + 1\n",
    "            zz += cd[k] * (psi[j][ix + kk] - psi[j][ix-kk])\n",
    "        zz = zz/dy\n",
    "        dpsi[j, i2] = zz\n",
    "\n",
    "print(\"First derivative over dividing surface found!\")\n",
    "#-------------------------------------------------------------------------------- */\n",
    "# CALCULATION OF FLUX SQUARED\n",
    "        \n",
    "fx2 = np.zeros((nn, nn))\n",
    "\n",
    "for j1 in range(nn):\n",
    "    for j2 in range(nn):\n",
    "        zz = 0.0\n",
    "        for i2 in range(nnx):\n",
    "            ix = nny * i2 + i0\n",
    "            zz0 = dpsi[j1, i2] * psi[j2, ix] - psi[j1, ix] * dpsi[j2, i2]\n",
    "            zz0 = zz0 * dy / (2.0 * m_au)\n",
    "            zz += zz0\n",
    "        zz = zz**2\n",
    "        fx2[j1, j2] = zz\n",
    "\n",
    "with open(\"Energy.npz\", \"wb\") as f:\n",
    "    np.savez(f, energies = energies, fx2 = fx2, )\n",
    "\n",
    "print(\"Job was successfully completed!\")\n",
    "#-------------------------------------------------------------------------------- */"
   ]
  },
  {
   "cell_type": "code",
   "execution_count": null,
   "metadata": {},
   "outputs": [],
   "source": [
    "#/* --------------------------------------------------------------------------------\n",
    "#   Egorov Group\n",
    "#   University of Virginia\n",
    "#   Mohan Shankar\n",
    "#\n",
    "#   correlation.py\n",
    "#   \"This code calculates correlation functions for a given system in parallel\"\n",
    "#-------------------------------------------------------------------------------- */\n",
    "# DEPENDENCIES\n",
    "import numpy as np\n",
    "from multiprocessing import Pool # relevant package for parallel processing temperatures\n",
    "from datetime import datetime\n",
    "#-------------------------------------------------------------------------------- */\n",
    "# INPUTS & LOAD IN DATA (PART 1)\n",
    "\n",
    "start_time = datetime.now()\n",
    "print(\"Starting!\", start_time)\n",
    "kb = 3.166830e-6 # Boltzmann constant in hartree\n",
    "har = 2.194746e5 # hartree in cm^{-1}\n",
    "\n",
    "Trange = np.array([100, 200, 400, 600, 750, 1000, 1250, 1500, 1750, 2000, 2500, 3000, 3500, 4000, 4500, 5000])\n",
    "\n",
    "tmin = 0\n",
    "tmax = 10000\n",
    "nt = 1000\n",
    "dt = (tmax - tmin)/nt\n",
    "\n",
    "hbar = 1.0\n",
    "\n",
    "with np.load('Energy.npz') as data:\n",
    "    E = np.array([data['energies']])\n",
    "    fx2 = data['fx2']\n",
    "\n",
    "nn = np.shape(fx2)[0]\n",
    "# print(\"Energies\", E)\n",
    "epsilon= np.log(1e-16)\n",
    "zero = E[0]\n",
    "dE = E - E.transpose()\n",
    "sE = E + E.transpose()\n",
    "\n",
    "dEm = dE.copy()\n",
    "\n",
    "np.fill_diagonal(dEm, 1)\n",
    "\n",
    "ttot = np.arange(tmin, tmax+1, dt)\n",
    "CF = np.zeros((2, nt+1))\n",
    "CS = np.zeros((2, nt+1))\n",
    "CF[0] = ttot\n",
    "CS[0] = ttot\n",
    "\n",
    "end_time =  datetime.now()\n",
    "print('Duration of Part One: {}'.format(end_time - start_time))\n",
    "#-------------------------------------------------------------------------------- */\n",
    "# Correlation Functions (PART 2)\n",
    "\n",
    "start_time = datetime.now()\n",
    "\n",
    "def f(T):\n",
    "    beta = 1/(kb*T)\n",
    "    cut = 2 * epsilon/beta \n",
    "    over = np.where(E > zero - cut)\n",
    "    if np.shape(over) == 0:\n",
    "        print(f'Not converged at {T}')\n",
    "        Q = nn\n",
    "    else:\n",
    "        print(f'At {T}K, {over[0]} functions are significant')\n",
    "        if over[0] <= nn:\n",
    "            Q = over[0]\n",
    "        else:\n",
    "            Q = nn\n",
    "\n",
    "    for time in range(nt + 1):\n",
    "        t = tmin + time * dt\n",
    "        zz = np.exp(-beta * 0.5 * sE[0:Q, 0:Q]) * fx2[0:Q, 0:Q]\n",
    "        CF1 = zz * np.cos(dE[0:Q, 0:Q] * t)\n",
    "        zzd = np.diagonal(zz)\n",
    "        CS1 = zz * np.sin(dE[0:Q, 0:Q] * t) / dEm[0:Q, 0:Q]\n",
    "        CSd = zzd * t\n",
    "        np.fill_diagonal(CS1, CSd)\n",
    "\n",
    "        CF[1, time] = np.sum(CF1)\n",
    "        CS[1, time] = np.sum(CS1)\n",
    "        \n",
    "    return CS, CF\n",
    "\n",
    "if __name__ == '__main__':\n",
    "    #num_cores=os.getenv('SLURM_CPUS_PER_TASK') # get number of cores based on slurm script\n",
    "    pool = Pool(processes=10) # use as many cores as allocated by slurm script\n",
    "    fargs=zip(Trange)\n",
    "\n",
    "    result = pool.starmap(f, fargs) # result is a list of all returned values for CS, CF at a given T in order (i.e. at Trange[i]: CS = results[i][0], CF = results[i][1])\n",
    "\n",
    "    # result is a 4-D object; result[a][b][c][d] --> a denotes which temp;\n",
    "    # b = 0 --> CS; b = 1 --> CF\n",
    "    # [c][d] are then indices for a 2D matrix where the first column\n",
    "    # corresponds to time and the second the relevant correlation function\n",
    "\n",
    "    for i, val in enumerate(Trange):\n",
    "        np.savetxt('side-flux'+str(val)+'K.txt', np.transpose((result[i][0][0], result[i][0][1])), delimiter = ',', header=\"Time , Side-Flux\", fmt='%1.4e') \n",
    "\n",
    "    # result[i][a][b] means Trange[i]; [a] = 0 means Flux-Side (CS);\n",
    "    # [b] = 0 means time column; b = 1 means correlation function;\n",
    "    # free index [d] corresponds to a particular element in column so it's unused\n",
    "\n",
    "    for i, val in enumerate(Trange):\n",
    "        np.savetxt('flux-flux'+str(val)+'K.txt', np.transpose((result[i][1][0], result[i][1][1])), delimiter = ',', header=\"Time , Flux-Flux\", fmt='%1.4e') \n",
    "    \n",
    "    # result[i][a][b] means Trange[i]; [a] = 1 means Flux-Flux (CF) [b] = 0 means\n",
    "    # time column while b = 1 means correlation function;\n",
    "    # [c][d] are then indices for a 2D matrix where the first column\n",
    "    # corresponds to time and the second the relevant correlation function\n",
    "\n",
    "    pool.close()\n",
    "    pool.join()\n",
    "\n",
    "\n",
    "end_time =  datetime.now()\n",
    "print('Duration of Part Two: {}'.format(end_time - start_time))\n",
    "#-------------------------------------------------------------------------------- */"
   ]
  },
  {
   "cell_type": "markdown",
   "metadata": {},
   "source": [
    "## Rate Constant Finder:\n",
    "\n",
    "Formally, we would have to find the limit as t $\\to \\infty$ for the flux-side correlation function to ascertain the rate constants, but that not possible since due to the oscillatory nature of the sinusoidal function. Instead what we can do is find the limit at an intermediate time, treating that as the long-time limit. It's more an art than a science, but the following code makes it a bit more quantitative. \n",
    "\n",
    "For the code below, it's important to note the structure of my directories, but first:\n",
    "\n",
    "Let G = {2, 4, 6, 8, 10} be the set of gap sizes used \n",
    "Let W = {1, 2, 3, 4, 5} be the set of wall thicknesses used\n",
    "\n",
    "g $\\in$ G and w $\\in$ W are elements of G and W respectively. I will use them to denote an arbitrary gap size of wall thickness in the directory below.\n",
    "\n",
    "```\n",
    "project\n",
    "│   README.md\n",
    "│   file001.txt    \n",
    "│\n",
    "└───wpt_wall\n",
    "│   │\n",
    "│   └───gpt_gap\n",
    "│   |   │   side-fluxtK.txt\n",
    "│   |   │   side-fluxtK.txt.txt\n",
    "│   |   │   ...\n",
    "│   └───gpt_gap\n",
    "│       │   side-fluxtK.txt\n",
    "│       │   side-fluxtK.txt\n",
    "│       │   ...\n",
    "│   \n",
    "└───wpt_wall\n",
    "│   │\n",
    "│   └───gpt_gap\n",
    "│   |    │   side-fluxtK.txt\n",
    "│   |    │   side-fluxtK.txt\n",
    "│   |    │   ...\n",
    "│   └────gpt_gap\n",
    "│        │   side-fluxtK.txt\n",
    "│        │   side-fluxtK.txt\n",
    "│        │   ...\n",
    "|\n",
    "└─── ...\n",
    "```\n",
    "\n",
    "What this shows is that the different wall thicknesses are all contained in the same parent directory, and the different gap sizes are sub-directories within the wall thickness folders."
   ]
  },
  {
   "cell_type": "code",
   "execution_count": 25,
   "metadata": {},
   "outputs": [
    {
     "name": "stdout",
     "output_type": "stream",
     "text": [
      "Partition Functions: \n",
      " [8.63930324e-03 9.82193204e-02 4.22178739e-01 8.24743160e-01\n",
      " 1.15425738e+00 1.73690949e+00 2.34854034e+00 2.98075566e+00\n",
      " 3.62856891e+00 4.28873106e+00 5.63768857e+00 7.01575693e+00\n",
      " 8.41588408e+00 9.83347522e+00 1.12653388e+01 1.27091510e+01]\n",
      "Tuples (40, 482)\n",
      "Tuples (489, 526)\n",
      "Tuples (543, 576)\n",
      "Tuples (624, 646)\n",
      "Tuples (662, 694)\n",
      "Tuples (749, 975)\n",
      "Number of index used 261.0\n",
      "Value of csf 1.3313e-06\n",
      "Time 2610.0\n",
      "Rate [Hz] [2.9386848e+09]\n",
      "Truncated Rate [Hz] [2.939e+09]\n"
     ]
    },
    {
     "name": "stderr",
     "output_type": "stream",
     "text": [
      "/var/folders/2h/yqm73phx7ljgrfkrgb88dx000000gn/T/ipykernel_4390/137975361.py:87: RuntimeWarning:\n",
      "\n",
      "invalid value encountered in divide\n",
      "\n"
     ]
    },
    {
     "data": {
      "image/png": "[encoded data removed]",
      "text/plain": [
       "<Figure size 640x480 with 1 Axes>"
      ]
     },
     "metadata": {},
     "output_type": "display_data"
    }
   ],
   "source": [
    "#/* -------------------------------------------------------------------------------------\n",
    "#   Egorov Group\n",
    "#   University of Virginia\n",
    "#   Mohan Shankar\n",
    "#\n",
    "#   rate_calculator.py\n",
    "# \"This code finds plateaus for f-s correlation fncs in order to calculate rate constants\"\n",
    "#---------------------------------------------------------------------------------------- */\n",
    "\n",
    "import numpy as np\n",
    "import matplotlib.pyplot as plt\n",
    "import pandas as pd\n",
    "\n",
    "\n",
    "Trange = np.array([100, 200, 400, 600, 750, 1000, 1250, 1500, 1750, 2000, 2500, 3000, 3500, 4000, 4500, 5000])\n",
    "\n",
    "hbar = 1.054571817e-34 # hbar in SI Units [J*s]\n",
    "\n",
    "m = 1.67262192e-27 # mass of proton in kg\n",
    "\n",
    "L = 1e-10 \n",
    "\n",
    "kb = 1.380649e-23\n",
    "\n",
    "#-------------------------------------------------------------------------------- */\n",
    "# Calculate Partition Functions\n",
    "n = np.arange(1, 21, 1)\n",
    "Q = np.empty(shape = len(Trange)) # initialize empty array of dimensions equal to Trange\n",
    "E = (np.pi ** 2 * hbar ** 2) / (2 * m * L ** 2)\n",
    "\n",
    "for i, temp in enumerate(Trange):\n",
    "    T = temp\n",
    "    beta = 1 / (kb * T)\n",
    "    zz = np.exp(-beta * E * n** 2)\n",
    "    final = np.sum(zz)\n",
    "    Q[i] = final**2\n",
    "\n",
    "print(\"Partition Functions: \\n\", Q)\n",
    "\n",
    "#-------------------------------------------------------------------------------- */\n",
    "# FUNCTION DEFINITIONS\n",
    "\n",
    "T = 1500 # CHANGE THIS TO GRAB A DIFFERENT FLUX-SIDE TEMPERATURE\n",
    "\n",
    "chunk_size = 50 # NUMBER OF POINTS FORWARD AND BACK TO CONSIDER IN DERIV.\n",
    "\n",
    "wall_size = 3 # CHANGE THIS TO GRAB A DIFFERENT FLUX-SIDE WALL SIZE\n",
    "\n",
    "gap_size = 6 # CHANGE THIS TO GRAB A DIFFERENT FLUX-SIDE GAP SIZE\n",
    "\n",
    "\n",
    "temp_index = np.where(Trange == T) # get index of Trange array where the temperature match \n",
    "#-------------------------------------------------------------------------------- */\n",
    "# READ IN DATA\n",
    "\n",
    "df = pd.read_csv(\"/Users/mohan/Desktop/Research/pib_review/data/\"+str(wall_size)+\"pt_wall/\"+str(gap_size)+\"pt_gap/side-flux\"+str(Trange[temp_index][0])+\"K.txt\") # read in data\n",
    "\n",
    "# df = pd.read_csv(\"/Users/mohan/Desktop/Refile/2pt_wall/6pt_gap/side-flux\"+str(Trange[temp_index][0])+\".txt\", sep = ' ', header = None).T # if Alec style; my 2 pt wall, 6pt gap are Alec style\n",
    "\n",
    "t = df.iloc[:, 0].to_numpy() # first column is time array\n",
    "c = df.iloc[:, 1].to_numpy() # second column is correlation function array\n",
    "\n",
    "#-------------------------------------------------------------------------------- */\n",
    "# DEFINE FUNCTIONS\n",
    "def zero_slope(data, chunksize = chunk_size, max_slope = .04): # function to find where the numerical derivative is ~ 0 based on chunk size \n",
    "    # (looking at points forwards and backwards) and max_slope\n",
    "    midindex = chunksize / 2\n",
    "    is_plateau = np.zeros((data.shape[0]))\n",
    "    for index in range(int(midindex), len(data) - int(midindex)):\n",
    "        front = index - midindex\n",
    "        back = index + midindex\n",
    "        chunk = data[int(front) : int(back)]\n",
    "        dy_dx = abs(chunk[0] - chunk[-1])/chunksize\n",
    "        if (0 <= dy_dx < max_slope):\n",
    "            is_plateau[index] = 1.0\n",
    "    return is_plateau\n",
    "\n",
    "def ranges(nums): # return tuples of consecutive integers (i.e. find \"widths\" of plateaus in step function)\n",
    "    nums = sorted(set(nums))\n",
    "    gaps = [[s, e] for s, e in zip(nums, nums[1:]) if s+1 < e]\n",
    "    edges = iter(nums[:1] + sum(gaps, []) + nums[-1:])\n",
    "    return list(zip(edges, edges))\n",
    "#-------------------------------------------------------------------------------- */\n",
    "# ANNOYING STUFF\n",
    "small = np.nanmin(c/t) # find min of c/t wile dropping NaN values\n",
    "\n",
    "step_function = zero_slope(data = c, chunksize = chunk_size, max_slope = small*10) # array of all 0's and 1's based on where the plateaus are\n",
    "\n",
    "indices = [idx for idx,val in enumerate(step_function) if val == 1] # grab indices where value is 1\n",
    "\n",
    "new = ranges(indices) # create tuples of consecutive numbers (i.e. find indices for each plateau)\n",
    "\n",
    "lengths = np.zeros(len(new)) # make empty array with same dimensions as \"new\" array \n",
    "\n",
    "for i, val in enumerate(new): # print out tuples\n",
    "    print(\"Tuples\", val)\n",
    "    lengths[i] = val[1] - val[0] \n",
    "\n",
    "#-------------------------------------------------------------------------------- */\n",
    "# NUMERICALLY FIND LARGEST PLATEAU AND SET INDEX (`use_this`) TO THE MIDDLE INDEX OF LONGEST PLATEAU\n",
    "\n",
    "max_value = max(lengths)\n",
    "max_index = list(lengths).index(max_value)\n",
    "\n",
    "largest_tuple = new[max_index]\n",
    "\n",
    "# automatically find widest plateau numerically\n",
    "# index for y value of csf we want to use for calculating the rate \n",
    "\n",
    "use_this = (largest_tuple[0] + (largest_tuple[1] - largest_tuple[0])/2)\n",
    "\n",
    "# use_this = (40 + (59 - 40)/2) # manually set index for widest plateau; index for y value of csf we want to use for calculating the rate \n",
    "\n",
    "print(\"Number of index used\", use_this)\n",
    "\n",
    "csf = c[int(use_this)]\n",
    "\n",
    "print(\"Value of csf\", csf)\n",
    "\n",
    "print(\"Time\", t[int(use_this)])\n",
    "\n",
    "rate = (csf/Q[temp_index]) * 6.57966e15 # rate; multiply hartree value by conversion factor to get Hz\n",
    "print(\"Rate [Hz]\", rate)\n",
    "short_rate = np.around(rate, decimals = -6)\n",
    "print(\"Truncated Rate [Hz]\", short_rate)\n",
    "#-------------------------------------------------------------------------------- */\n",
    "# PLOT\n",
    "plt.plot(t, c, color = 'RoyalBlue')\n",
    "plt.plot(t, step_function*np.nanmax(c), color = 'darkorange') # scale the step function by the maximum of the correlation function so that plotting makes sense\n",
    "plt.axvline(x = t[int(use_this)], color = 'k', linestyle = '--', label = 'plateau value')\n",
    "plt.text(t[int(use_this)], c[int(use_this)] + np.nanmin(c), str(short_rate)+\"Hz\")\n",
    "plt.xlabel(\"t\")\n",
    "plt.ylabel(r\"$C_{fs}$\")\n",
    "# plt.savefig(\"/Users/mohan/Desktop/well-behaved_ff_1000k_2wall_6gap.png\", dpi = 500)\n",
    "plt.show()"
   ]
  },
  {
   "cell_type": "code",
   "execution_count": 35,
   "metadata": {},
   "outputs": [],
   "source": [
    "#/* -------------------------------------------------------------------------------------\n",
    "#   Egorov Group\n",
    "#   University of Virginia\n",
    "#   Mohan Shankar\n",
    "#\n",
    "#   rate_extrapolator.py\n",
    "# \"This code extrapolates rate constants as wall thickness tends to zero\"\n",
    "#---------------------------------------------------------------------------------------- */\n",
    "\n",
    "import numpy as np\n",
    "import matplotlib.pyplot as plt\n",
    "import pandas as pd\n",
    "\n",
    "Trange = np.array([100, 200, 400, 600, 750, 1000, 1250, 1500, 1750, 2000, 2500, 3000, 3500, 4000, 4500, 5000])\n",
    "\n",
    "gaps = np.array([2, 4, 6, 8, 10])\n",
    "\n",
    "df = pd.read_excel(\"/Users/mohan/Desktop/Research/pib_review/data/extrap_rate_plot.xlsx\").dropna() # read in data \n",
    "\n",
    "extrap_rates = np.zeros((len(Trange), len(gaps))) # matrix where constant T across row, constant gap size down a column\n",
    "extrap_errors = np.zeros((len(Trange), len(gaps))) # matrix where constant T across row, constant gap size down a column\n",
    "ratio_rates_error = np.zeros((len(Trange), len(gaps))) # matrix where constant T across row, constant gap size down a column\n",
    "\n",
    "for i, T in enumerate(Trange):\n",
    "    for j, gap_size in enumerate(gaps):\n",
    "        filtered_df = df[(df['Temperature [K]'] == T) & (df['Gap Size'] == gap_size)]\n",
    "        result = filtered_df.head(5) # Take the first five rows that meet the criteria\n",
    "        \n",
    "        wall_thickness = result.iloc[:, 1]\n",
    "        rates = result.iloc[:, -1]\n",
    "        \n",
    "        order = 2\n",
    "\n",
    "        fit, cov_matrix = np.polyfit(wall_thickness, rates, order, cov = True) # fit 2nd order polynomial to data and return covariance matrix\n",
    "\n",
    "        errors = np.sqrt(np.diag(cov_matrix))\n",
    "\n",
    "        extrap_rates[i][j] = fit[-1] # assign i, j element the y-int which corresponds to wall thickness = 0\n",
    "\n",
    "        extrap_errors[i][j] = errors[-1] # assign i, j element the y-int error \n",
    "\n",
    "        ratio_rates_error[i][j] = np.abs( fit[-1] / errors[-1] )\n",
    "\n",
    "\n",
    "gaps = np.array([0, 2, 4, 6, 8, 10])\n",
    "\n",
    "final_extrap_rates = np.row_stack((gaps, np.column_stack((Trange, extrap_rates)))) # add leftmost column vector denoting temp and topmost row vector denoting gap size\n",
    "\n",
    "final_extrap_errors = np.row_stack((gaps, np.column_stack((Trange, extrap_errors)))) # add leftmost column vector denoting temp and topmost row vector denoting gap size\n",
    "\n",
    "final_ratio_errors = np.row_stack((gaps, np.column_stack((Trange, ratio_rates_error)))) # add leftmost column vector denoting temp and topmost row vector denoting gap size\n",
    "\n",
    "\n",
    "# SAVE RESULTS AS CSV\n",
    "\n",
    "# np.savetxt('/Users/mohan/Desktop/extrap_rates.csv', final_extrap_rates, delimiter=',') # CHANGE PATH\n",
    "# np.savetxt('/Users/mohan/Desktop/extrap_error.csv', final_extrap_errors, delimiter=',') # CHANGE PATH\n",
    "# np.savetxt('/Users/mohan/Desktop/extrap_ratio.csv', final_ratio_errors, delimiter=',') # CHANGE PATH\n",
    "\n"
   ]
  }
 ],
 "metadata": {
  "kernelspec": {
   "display_name": "Python 3",
   "language": "python",
   "name": "python3"
  },
  "language_info": {
   "codemirror_mode": {
    "name": "ipython",
    "version": 3
   },
   "file_extension": ".py",
   "mimetype": "text/x-python",
   "name": "python",
   "nbconvert_exporter": "python",
   "pygments_lexer": "ipython3",
   "version": "3.12.2"
  }
 },
 "nbformat": 4,
 "nbformat_minor": 2
}
